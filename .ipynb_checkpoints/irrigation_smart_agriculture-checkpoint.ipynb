{
 "cells": [
  {
   "cell_type": "markdown",
   "id": "7b68309d-de08-47f1-9137-f68451d88b40",
   "metadata": {},
   "source": [
    "# Loading Data"
   ]
  },
  {
   "cell_type": "code",
   "execution_count": 2,
   "id": "89063f09-f693-4ff5-8b0b-8df261350fb7",
   "metadata": {},
   "outputs": [],
   "source": [
    "import numpy as np\n",
    "import pandas as pd\n",
    "import matplotlib.pyplot as plt\n",
    "import seaborn as sns"
   ]
  },
  {
   "cell_type": "code",
   "execution_count": 3,
   "id": "eb2b731f-37c3-4779-9cbc-6895f2f2987c",
   "metadata": {},
   "outputs": [
    {
     "data": {
      "text/html": [
       "<div>\n",
       "<style scoped>\n",
       "    .dataframe tbody tr th:only-of-type {\n",
       "        vertical-align: middle;\n",
       "    }\n",
       "\n",
       "    .dataframe tbody tr th {\n",
       "        vertical-align: top;\n",
       "    }\n",
       "\n",
       "    .dataframe thead th {\n",
       "        text-align: right;\n",
       "    }\n",
       "</style>\n",
       "<table border=\"1\" class=\"dataframe\">\n",
       "  <thead>\n",
       "    <tr style=\"text-align: right;\">\n",
       "      <th></th>\n",
       "      <th>id</th>\n",
       "      <th>temperature</th>\n",
       "      <th>pressure</th>\n",
       "      <th>altitude</th>\n",
       "      <th>soilmiosture</th>\n",
       "      <th>note</th>\n",
       "      <th>status</th>\n",
       "      <th>class</th>\n",
       "      <th>date</th>\n",
       "      <th>time</th>\n",
       "    </tr>\n",
       "  </thead>\n",
       "  <tbody>\n",
       "    <tr>\n",
       "      <th>0</th>\n",
       "      <td>1</td>\n",
       "      <td>29.10</td>\n",
       "      <td>9984.53</td>\n",
       "      <td>-12.21</td>\n",
       "      <td>377</td>\n",
       "      <td>0</td>\n",
       "      <td>0</td>\n",
       "      <td>Very Dry</td>\n",
       "      <td>08-10-2022</td>\n",
       "      <td>22:06:24</td>\n",
       "    </tr>\n",
       "    <tr>\n",
       "      <th>1</th>\n",
       "      <td>2</td>\n",
       "      <td>29.08</td>\n",
       "      <td>9984.36</td>\n",
       "      <td>-12.22</td>\n",
       "      <td>379</td>\n",
       "      <td>0</td>\n",
       "      <td>0</td>\n",
       "      <td>Very Dry</td>\n",
       "      <td>08-10-2022</td>\n",
       "      <td>22:06:24</td>\n",
       "    </tr>\n",
       "    <tr>\n",
       "      <th>2</th>\n",
       "      <td>3</td>\n",
       "      <td>29.06</td>\n",
       "      <td>9984.56</td>\n",
       "      <td>-12.20</td>\n",
       "      <td>376</td>\n",
       "      <td>0</td>\n",
       "      <td>0</td>\n",
       "      <td>Very Dry</td>\n",
       "      <td>08-10-2022</td>\n",
       "      <td>22:06:24</td>\n",
       "    </tr>\n",
       "    <tr>\n",
       "      <th>3</th>\n",
       "      <td>4</td>\n",
       "      <td>29.05</td>\n",
       "      <td>9984.39</td>\n",
       "      <td>-12.22</td>\n",
       "      <td>377</td>\n",
       "      <td>0</td>\n",
       "      <td>0</td>\n",
       "      <td>Very Dry</td>\n",
       "      <td>08-10-2022</td>\n",
       "      <td>22:06:24</td>\n",
       "    </tr>\n",
       "    <tr>\n",
       "      <th>4</th>\n",
       "      <td>5</td>\n",
       "      <td>29.03</td>\n",
       "      <td>9984.42</td>\n",
       "      <td>-12.21</td>\n",
       "      <td>379</td>\n",
       "      <td>0</td>\n",
       "      <td>0</td>\n",
       "      <td>Very Dry</td>\n",
       "      <td>08-10-2022</td>\n",
       "      <td>22:06:24</td>\n",
       "    </tr>\n",
       "    <tr>\n",
       "      <th>...</th>\n",
       "      <td>...</td>\n",
       "      <td>...</td>\n",
       "      <td>...</td>\n",
       "      <td>...</td>\n",
       "      <td>...</td>\n",
       "      <td>...</td>\n",
       "      <td>...</td>\n",
       "      <td>...</td>\n",
       "      <td>...</td>\n",
       "      <td>...</td>\n",
       "    </tr>\n",
       "    <tr>\n",
       "      <th>4683</th>\n",
       "      <td>4684</td>\n",
       "      <td>29.34</td>\n",
       "      <td>9921.75</td>\n",
       "      <td>-17.49</td>\n",
       "      <td>327</td>\n",
       "      <td>1</td>\n",
       "      <td>0</td>\n",
       "      <td>Dry</td>\n",
       "      <td>08-10-2022</td>\n",
       "      <td>22:06:24</td>\n",
       "    </tr>\n",
       "    <tr>\n",
       "      <th>4684</th>\n",
       "      <td>4685</td>\n",
       "      <td>29.31</td>\n",
       "      <td>9921.45</td>\n",
       "      <td>-17.52</td>\n",
       "      <td>328</td>\n",
       "      <td>1</td>\n",
       "      <td>0</td>\n",
       "      <td>Dry</td>\n",
       "      <td>08-10-2022</td>\n",
       "      <td>22:06:24</td>\n",
       "    </tr>\n",
       "    <tr>\n",
       "      <th>4685</th>\n",
       "      <td>4686</td>\n",
       "      <td>29.29</td>\n",
       "      <td>9921.48</td>\n",
       "      <td>-17.51</td>\n",
       "      <td>328</td>\n",
       "      <td>1</td>\n",
       "      <td>0</td>\n",
       "      <td>Dry</td>\n",
       "      <td>08-10-2022</td>\n",
       "      <td>22:06:24</td>\n",
       "    </tr>\n",
       "    <tr>\n",
       "      <th>4686</th>\n",
       "      <td>4687</td>\n",
       "      <td>29.26</td>\n",
       "      <td>9921.51</td>\n",
       "      <td>-17.51</td>\n",
       "      <td>327</td>\n",
       "      <td>1</td>\n",
       "      <td>0</td>\n",
       "      <td>Dry</td>\n",
       "      <td>08-10-2022</td>\n",
       "      <td>22:06:24</td>\n",
       "    </tr>\n",
       "    <tr>\n",
       "      <th>4687</th>\n",
       "      <td>4688</td>\n",
       "      <td>29.28</td>\n",
       "      <td>9922.20</td>\n",
       "      <td>-17.45</td>\n",
       "      <td>323</td>\n",
       "      <td>1</td>\n",
       "      <td>0</td>\n",
       "      <td>Dry</td>\n",
       "      <td>08-10-2022</td>\n",
       "      <td>22:06:24</td>\n",
       "    </tr>\n",
       "  </tbody>\n",
       "</table>\n",
       "<p>4688 rows × 10 columns</p>\n",
       "</div>"
      ],
      "text/plain": [
       "        id  temperature  pressure  altitude  soilmiosture  note  status  \\\n",
       "0        1        29.10   9984.53    -12.21           377     0       0   \n",
       "1        2        29.08   9984.36    -12.22           379     0       0   \n",
       "2        3        29.06   9984.56    -12.20           376     0       0   \n",
       "3        4        29.05   9984.39    -12.22           377     0       0   \n",
       "4        5        29.03   9984.42    -12.21           379     0       0   \n",
       "...    ...          ...       ...       ...           ...   ...     ...   \n",
       "4683  4684        29.34   9921.75    -17.49           327     1       0   \n",
       "4684  4685        29.31   9921.45    -17.52           328     1       0   \n",
       "4685  4686        29.29   9921.48    -17.51           328     1       0   \n",
       "4686  4687        29.26   9921.51    -17.51           327     1       0   \n",
       "4687  4688        29.28   9922.20    -17.45           323     1       0   \n",
       "\n",
       "         class        date      time  \n",
       "0     Very Dry  08-10-2022  22:06:24  \n",
       "1     Very Dry  08-10-2022  22:06:24  \n",
       "2     Very Dry  08-10-2022  22:06:24  \n",
       "3     Very Dry  08-10-2022  22:06:24  \n",
       "4     Very Dry  08-10-2022  22:06:24  \n",
       "...        ...         ...       ...  \n",
       "4683       Dry  08-10-2022  22:06:24  \n",
       "4684       Dry  08-10-2022  22:06:24  \n",
       "4685       Dry  08-10-2022  22:06:24  \n",
       "4686       Dry  08-10-2022  22:06:24  \n",
       "4687       Dry  08-10-2022  22:06:24  \n",
       "\n",
       "[4688 rows x 10 columns]"
      ]
     },
     "execution_count": 3,
     "metadata": {},
     "output_type": "execute_result"
    }
   ],
   "source": [
    "#Load the data\n",
    "df=pd.read_csv(r\"C:\\Users\\ASUS\\case_study\\Irrigation Scheduling.csv\")\n",
    "df"
   ]
  },
  {
   "cell_type": "code",
   "execution_count": 4,
   "id": "7878330e-c31f-4fb8-8e74-252f19bc92e9",
   "metadata": {},
   "outputs": [
    {
     "data": {
      "text/html": [
       "<div>\n",
       "<style scoped>\n",
       "    .dataframe tbody tr th:only-of-type {\n",
       "        vertical-align: middle;\n",
       "    }\n",
       "\n",
       "    .dataframe tbody tr th {\n",
       "        vertical-align: top;\n",
       "    }\n",
       "\n",
       "    .dataframe thead th {\n",
       "        text-align: right;\n",
       "    }\n",
       "</style>\n",
       "<table border=\"1\" class=\"dataframe\">\n",
       "  <thead>\n",
       "    <tr style=\"text-align: right;\">\n",
       "      <th></th>\n",
       "      <th>id</th>\n",
       "      <th>temperature</th>\n",
       "      <th>pressure</th>\n",
       "      <th>altitude</th>\n",
       "      <th>soilmiosture</th>\n",
       "      <th>note</th>\n",
       "      <th>status</th>\n",
       "      <th>class</th>\n",
       "      <th>date</th>\n",
       "      <th>time</th>\n",
       "    </tr>\n",
       "  </thead>\n",
       "  <tbody>\n",
       "    <tr>\n",
       "      <th>0</th>\n",
       "      <td>1</td>\n",
       "      <td>29.10</td>\n",
       "      <td>9984.53</td>\n",
       "      <td>-12.21</td>\n",
       "      <td>377</td>\n",
       "      <td>0</td>\n",
       "      <td>0</td>\n",
       "      <td>Very Dry</td>\n",
       "      <td>08-10-2022</td>\n",
       "      <td>22:06:24</td>\n",
       "    </tr>\n",
       "    <tr>\n",
       "      <th>1</th>\n",
       "      <td>2</td>\n",
       "      <td>29.08</td>\n",
       "      <td>9984.36</td>\n",
       "      <td>-12.22</td>\n",
       "      <td>379</td>\n",
       "      <td>0</td>\n",
       "      <td>0</td>\n",
       "      <td>Very Dry</td>\n",
       "      <td>08-10-2022</td>\n",
       "      <td>22:06:24</td>\n",
       "    </tr>\n",
       "    <tr>\n",
       "      <th>2</th>\n",
       "      <td>3</td>\n",
       "      <td>29.06</td>\n",
       "      <td>9984.56</td>\n",
       "      <td>-12.20</td>\n",
       "      <td>376</td>\n",
       "      <td>0</td>\n",
       "      <td>0</td>\n",
       "      <td>Very Dry</td>\n",
       "      <td>08-10-2022</td>\n",
       "      <td>22:06:24</td>\n",
       "    </tr>\n",
       "    <tr>\n",
       "      <th>3</th>\n",
       "      <td>4</td>\n",
       "      <td>29.05</td>\n",
       "      <td>9984.39</td>\n",
       "      <td>-12.22</td>\n",
       "      <td>377</td>\n",
       "      <td>0</td>\n",
       "      <td>0</td>\n",
       "      <td>Very Dry</td>\n",
       "      <td>08-10-2022</td>\n",
       "      <td>22:06:24</td>\n",
       "    </tr>\n",
       "    <tr>\n",
       "      <th>4</th>\n",
       "      <td>5</td>\n",
       "      <td>29.03</td>\n",
       "      <td>9984.42</td>\n",
       "      <td>-12.21</td>\n",
       "      <td>379</td>\n",
       "      <td>0</td>\n",
       "      <td>0</td>\n",
       "      <td>Very Dry</td>\n",
       "      <td>08-10-2022</td>\n",
       "      <td>22:06:24</td>\n",
       "    </tr>\n",
       "  </tbody>\n",
       "</table>\n",
       "</div>"
      ],
      "text/plain": [
       "   id  temperature  pressure  altitude  soilmiosture  note  status     class  \\\n",
       "0   1        29.10   9984.53    -12.21           377     0       0  Very Dry   \n",
       "1   2        29.08   9984.36    -12.22           379     0       0  Very Dry   \n",
       "2   3        29.06   9984.56    -12.20           376     0       0  Very Dry   \n",
       "3   4        29.05   9984.39    -12.22           377     0       0  Very Dry   \n",
       "4   5        29.03   9984.42    -12.21           379     0       0  Very Dry   \n",
       "\n",
       "         date      time  \n",
       "0  08-10-2022  22:06:24  \n",
       "1  08-10-2022  22:06:24  \n",
       "2  08-10-2022  22:06:24  \n",
       "3  08-10-2022  22:06:24  \n",
       "4  08-10-2022  22:06:24  "
      ]
     },
     "execution_count": 4,
     "metadata": {},
     "output_type": "execute_result"
    }
   ],
   "source": [
    "#To display first five records\n",
    "df.head(5)"
   ]
  },
  {
   "cell_type": "code",
   "execution_count": 5,
   "id": "2f537460-49ac-41ee-87a5-808346e6450a",
   "metadata": {},
   "outputs": [
    {
     "data": {
      "text/html": [
       "<div>\n",
       "<style scoped>\n",
       "    .dataframe tbody tr th:only-of-type {\n",
       "        vertical-align: middle;\n",
       "    }\n",
       "\n",
       "    .dataframe tbody tr th {\n",
       "        vertical-align: top;\n",
       "    }\n",
       "\n",
       "    .dataframe thead th {\n",
       "        text-align: right;\n",
       "    }\n",
       "</style>\n",
       "<table border=\"1\" class=\"dataframe\">\n",
       "  <thead>\n",
       "    <tr style=\"text-align: right;\">\n",
       "      <th></th>\n",
       "      <th>id</th>\n",
       "      <th>temperature</th>\n",
       "      <th>pressure</th>\n",
       "      <th>altitude</th>\n",
       "      <th>soilmiosture</th>\n",
       "      <th>note</th>\n",
       "      <th>status</th>\n",
       "      <th>class</th>\n",
       "      <th>date</th>\n",
       "      <th>time</th>\n",
       "    </tr>\n",
       "  </thead>\n",
       "  <tbody>\n",
       "    <tr>\n",
       "      <th>4683</th>\n",
       "      <td>4684</td>\n",
       "      <td>29.34</td>\n",
       "      <td>9921.75</td>\n",
       "      <td>-17.49</td>\n",
       "      <td>327</td>\n",
       "      <td>1</td>\n",
       "      <td>0</td>\n",
       "      <td>Dry</td>\n",
       "      <td>08-10-2022</td>\n",
       "      <td>22:06:24</td>\n",
       "    </tr>\n",
       "    <tr>\n",
       "      <th>4684</th>\n",
       "      <td>4685</td>\n",
       "      <td>29.31</td>\n",
       "      <td>9921.45</td>\n",
       "      <td>-17.52</td>\n",
       "      <td>328</td>\n",
       "      <td>1</td>\n",
       "      <td>0</td>\n",
       "      <td>Dry</td>\n",
       "      <td>08-10-2022</td>\n",
       "      <td>22:06:24</td>\n",
       "    </tr>\n",
       "    <tr>\n",
       "      <th>4685</th>\n",
       "      <td>4686</td>\n",
       "      <td>29.29</td>\n",
       "      <td>9921.48</td>\n",
       "      <td>-17.51</td>\n",
       "      <td>328</td>\n",
       "      <td>1</td>\n",
       "      <td>0</td>\n",
       "      <td>Dry</td>\n",
       "      <td>08-10-2022</td>\n",
       "      <td>22:06:24</td>\n",
       "    </tr>\n",
       "    <tr>\n",
       "      <th>4686</th>\n",
       "      <td>4687</td>\n",
       "      <td>29.26</td>\n",
       "      <td>9921.51</td>\n",
       "      <td>-17.51</td>\n",
       "      <td>327</td>\n",
       "      <td>1</td>\n",
       "      <td>0</td>\n",
       "      <td>Dry</td>\n",
       "      <td>08-10-2022</td>\n",
       "      <td>22:06:24</td>\n",
       "    </tr>\n",
       "    <tr>\n",
       "      <th>4687</th>\n",
       "      <td>4688</td>\n",
       "      <td>29.28</td>\n",
       "      <td>9922.20</td>\n",
       "      <td>-17.45</td>\n",
       "      <td>323</td>\n",
       "      <td>1</td>\n",
       "      <td>0</td>\n",
       "      <td>Dry</td>\n",
       "      <td>08-10-2022</td>\n",
       "      <td>22:06:24</td>\n",
       "    </tr>\n",
       "  </tbody>\n",
       "</table>\n",
       "</div>"
      ],
      "text/plain": [
       "        id  temperature  pressure  altitude  soilmiosture  note  status class  \\\n",
       "4683  4684        29.34   9921.75    -17.49           327     1       0   Dry   \n",
       "4684  4685        29.31   9921.45    -17.52           328     1       0   Dry   \n",
       "4685  4686        29.29   9921.48    -17.51           328     1       0   Dry   \n",
       "4686  4687        29.26   9921.51    -17.51           327     1       0   Dry   \n",
       "4687  4688        29.28   9922.20    -17.45           323     1       0   Dry   \n",
       "\n",
       "            date      time  \n",
       "4683  08-10-2022  22:06:24  \n",
       "4684  08-10-2022  22:06:24  \n",
       "4685  08-10-2022  22:06:24  \n",
       "4686  08-10-2022  22:06:24  \n",
       "4687  08-10-2022  22:06:24  "
      ]
     },
     "execution_count": 5,
     "metadata": {},
     "output_type": "execute_result"
    }
   ],
   "source": [
    "#To display last five records\n",
    "df.tail(5)"
   ]
  },
  {
   "cell_type": "code",
   "execution_count": 6,
   "id": "cd0b12ff-0978-4506-ad51-92ef4a9d264b",
   "metadata": {},
   "outputs": [
    {
     "data": {
      "text/plain": [
       "0       Very Dry\n",
       "1       Very Dry\n",
       "2       Very Dry\n",
       "3       Very Dry\n",
       "4       Very Dry\n",
       "          ...   \n",
       "4683         Dry\n",
       "4684         Dry\n",
       "4685         Dry\n",
       "4686         Dry\n",
       "4687         Dry\n",
       "Name: class, Length: 4688, dtype: object"
      ]
     },
     "execution_count": 6,
     "metadata": {},
     "output_type": "execute_result"
    }
   ],
   "source": [
    "#To display class\n",
    "df['class']"
   ]
  },
  {
   "cell_type": "code",
   "execution_count": 7,
   "id": "71cecb91-3277-4ce7-b7b7-5b56e7e9797c",
   "metadata": {},
   "outputs": [
    {
     "data": {
      "text/html": [
       "<div>\n",
       "<style scoped>\n",
       "    .dataframe tbody tr th:only-of-type {\n",
       "        vertical-align: middle;\n",
       "    }\n",
       "\n",
       "    .dataframe tbody tr th {\n",
       "        vertical-align: top;\n",
       "    }\n",
       "\n",
       "    .dataframe thead th {\n",
       "        text-align: right;\n",
       "    }\n",
       "</style>\n",
       "<table border=\"1\" class=\"dataframe\">\n",
       "  <thead>\n",
       "    <tr style=\"text-align: right;\">\n",
       "      <th></th>\n",
       "      <th>id</th>\n",
       "      <th>temperature</th>\n",
       "      <th>pressure</th>\n",
       "      <th>altitude</th>\n",
       "      <th>soilmiosture</th>\n",
       "      <th>note</th>\n",
       "      <th>status</th>\n",
       "    </tr>\n",
       "  </thead>\n",
       "  <tbody>\n",
       "    <tr>\n",
       "      <th>count</th>\n",
       "      <td>4688.000000</td>\n",
       "      <td>4688.000000</td>\n",
       "      <td>4688.000000</td>\n",
       "      <td>4682.000000</td>\n",
       "      <td>4688.000000</td>\n",
       "      <td>4688.000000</td>\n",
       "      <td>4688.000000</td>\n",
       "    </tr>\n",
       "    <tr>\n",
       "      <th>mean</th>\n",
       "      <td>2344.500000</td>\n",
       "      <td>29.599089</td>\n",
       "      <td>9963.153215</td>\n",
       "      <td>-14.291506</td>\n",
       "      <td>243.692406</td>\n",
       "      <td>1.878413</td>\n",
       "      <td>0.703712</td>\n",
       "    </tr>\n",
       "    <tr>\n",
       "      <th>std</th>\n",
       "      <td>1353.453361</td>\n",
       "      <td>5.842685</td>\n",
       "      <td>1383.602527</td>\n",
       "      <td>2.649815</td>\n",
       "      <td>76.176855</td>\n",
       "      <td>1.152977</td>\n",
       "      <td>0.456668</td>\n",
       "    </tr>\n",
       "    <tr>\n",
       "      <th>min</th>\n",
       "      <td>1.000000</td>\n",
       "      <td>27.970000</td>\n",
       "      <td>-2120.400000</td>\n",
       "      <td>-17.610000</td>\n",
       "      <td>-243.000000</td>\n",
       "      <td>0.000000</td>\n",
       "      <td>0.000000</td>\n",
       "    </tr>\n",
       "    <tr>\n",
       "      <th>25%</th>\n",
       "      <td>1172.750000</td>\n",
       "      <td>28.630000</td>\n",
       "      <td>9935.255000</td>\n",
       "      <td>-16.340000</td>\n",
       "      <td>171.000000</td>\n",
       "      <td>1.000000</td>\n",
       "      <td>0.000000</td>\n",
       "    </tr>\n",
       "    <tr>\n",
       "      <th>50%</th>\n",
       "      <td>2344.500000</td>\n",
       "      <td>29.180000</td>\n",
       "      <td>9969.535000</td>\n",
       "      <td>-13.470000</td>\n",
       "      <td>233.000000</td>\n",
       "      <td>2.000000</td>\n",
       "      <td>1.000000</td>\n",
       "    </tr>\n",
       "    <tr>\n",
       "      <th>75%</th>\n",
       "      <td>3516.250000</td>\n",
       "      <td>29.990000</td>\n",
       "      <td>9975.700000</td>\n",
       "      <td>-12.950000</td>\n",
       "      <td>326.000000</td>\n",
       "      <td>3.000000</td>\n",
       "      <td>1.000000</td>\n",
       "    </tr>\n",
       "    <tr>\n",
       "      <th>max</th>\n",
       "      <td>4688.000000</td>\n",
       "      <td>178.700000</td>\n",
       "      <td>99931.100000</td>\n",
       "      <td>116.700000</td>\n",
       "      <td>480.000000</td>\n",
       "      <td>3.000000</td>\n",
       "      <td>1.000000</td>\n",
       "    </tr>\n",
       "  </tbody>\n",
       "</table>\n",
       "</div>"
      ],
      "text/plain": [
       "                id  temperature      pressure     altitude  soilmiosture  \\\n",
       "count  4688.000000  4688.000000   4688.000000  4682.000000   4688.000000   \n",
       "mean   2344.500000    29.599089   9963.153215   -14.291506    243.692406   \n",
       "std    1353.453361     5.842685   1383.602527     2.649815     76.176855   \n",
       "min       1.000000    27.970000  -2120.400000   -17.610000   -243.000000   \n",
       "25%    1172.750000    28.630000   9935.255000   -16.340000    171.000000   \n",
       "50%    2344.500000    29.180000   9969.535000   -13.470000    233.000000   \n",
       "75%    3516.250000    29.990000   9975.700000   -12.950000    326.000000   \n",
       "max    4688.000000   178.700000  99931.100000   116.700000    480.000000   \n",
       "\n",
       "              note       status  \n",
       "count  4688.000000  4688.000000  \n",
       "mean      1.878413     0.703712  \n",
       "std       1.152977     0.456668  \n",
       "min       0.000000     0.000000  \n",
       "25%       1.000000     0.000000  \n",
       "50%       2.000000     1.000000  \n",
       "75%       3.000000     1.000000  \n",
       "max       3.000000     1.000000  "
      ]
     },
     "execution_count": 7,
     "metadata": {},
     "output_type": "execute_result"
    }
   ],
   "source": [
    "#describe() method returns description of the data in the DataFrame.\n",
    "df.describe()"
   ]
  },
  {
   "cell_type": "code",
   "execution_count": 8,
   "id": "91401c51-35fd-4293-88e9-603b23b443ad",
   "metadata": {},
   "outputs": [
    {
     "data": {
      "text/plain": [
       "(4688, 10)"
      ]
     },
     "execution_count": 8,
     "metadata": {},
     "output_type": "execute_result"
    }
   ],
   "source": [
    "#To display number of rows and columns\n",
    "df.shape"
   ]
  },
  {
   "cell_type": "code",
   "execution_count": 9,
   "id": "51b07564-4a5d-481d-a782-e9a35af1f988",
   "metadata": {},
   "outputs": [
    {
     "name": "stdout",
     "output_type": "stream",
     "text": [
      "<class 'pandas.core.frame.DataFrame'>\n",
      "RangeIndex: 4688 entries, 0 to 4687\n",
      "Data columns (total 10 columns):\n",
      " #   Column        Non-Null Count  Dtype  \n",
      "---  ------        --------------  -----  \n",
      " 0   id            4688 non-null   int64  \n",
      " 1   temperature   4688 non-null   float64\n",
      " 2   pressure      4688 non-null   float64\n",
      " 3   altitude      4682 non-null   float64\n",
      " 4   soilmiosture  4688 non-null   int64  \n",
      " 5   note          4688 non-null   int64  \n",
      " 6   status        4688 non-null   int64  \n",
      " 7   class         4688 non-null   object \n",
      " 8   date          4688 non-null   object \n",
      " 9   time          4688 non-null   object \n",
      "dtypes: float64(3), int64(4), object(3)\n",
      "memory usage: 366.4+ KB\n"
     ]
    }
   ],
   "source": [
    "#To display number of columns, column labels, column data types, memory usage, range index, and the number of cells in each column (non-null values).\n",
    "df.info()"
   ]
  },
  {
   "cell_type": "code",
   "execution_count": 10,
   "id": "af4bf717-9793-4519-b06e-3fab10a5cc25",
   "metadata": {},
   "outputs": [
    {
     "data": {
      "text/plain": [
       "pandas.core.frame.DataFrame"
      ]
     },
     "execution_count": 10,
     "metadata": {},
     "output_type": "execute_result"
    }
   ],
   "source": [
    "type(df)"
   ]
  },
  {
   "cell_type": "code",
   "execution_count": 11,
   "id": "b251b6a8-ba1c-4910-85fd-e0753896046a",
   "metadata": {},
   "outputs": [
    {
     "data": {
      "text/plain": [
       "[RangeIndex(start=0, stop=4688, step=1),\n",
       " Index(['id', 'temperature', 'pressure', 'altitude', 'soilmiosture', 'note',\n",
       "        'status', 'class', 'date', 'time'],\n",
       "       dtype='object')]"
      ]
     },
     "execution_count": 11,
     "metadata": {},
     "output_type": "execute_result"
    }
   ],
   "source": [
    "df.axes"
   ]
  },
  {
   "cell_type": "code",
   "execution_count": 12,
   "id": "cbfc8abf-8f10-436f-aa25-0f126264b6bc",
   "metadata": {},
   "outputs": [
    {
     "data": {
      "text/plain": [
       "id                int64\n",
       "temperature     float64\n",
       "pressure        float64\n",
       "altitude        float64\n",
       "soilmiosture      int64\n",
       "note              int64\n",
       "status            int64\n",
       "class            object\n",
       "date             object\n",
       "time             object\n",
       "dtype: object"
      ]
     },
     "execution_count": 12,
     "metadata": {},
     "output_type": "execute_result"
    }
   ],
   "source": [
    "#To return data type of each column. \n",
    "df.dtypes"
   ]
  },
  {
   "cell_type": "code",
   "execution_count": 13,
   "id": "71a9ba4c-771f-42df-9ed6-9d88c0b98c04",
   "metadata": {},
   "outputs": [
    {
     "data": {
      "text/plain": [
       "id              4688\n",
       "temperature      426\n",
       "pressure        2593\n",
       "altitude         555\n",
       "soilmiosture     262\n",
       "note               4\n",
       "status             2\n",
       "class              4\n",
       "date               1\n",
       "time               1\n",
       "dtype: int64"
      ]
     },
     "execution_count": 13,
     "metadata": {},
     "output_type": "execute_result"
    }
   ],
   "source": [
    "#To return the number of unique values for each column\n",
    "df.nunique()"
   ]
  },
  {
   "cell_type": "code",
   "execution_count": 14,
   "id": "68797aea-6315-4a6e-85dc-c3a6cc3397d3",
   "metadata": {},
   "outputs": [
    {
     "data": {
      "text/plain": [
       "id              4688\n",
       "temperature     4688\n",
       "pressure        4688\n",
       "altitude        4682\n",
       "soilmiosture    4688\n",
       "note            4688\n",
       "status          4688\n",
       "class           4688\n",
       "date            4688\n",
       "time            4688\n",
       "dtype: int64"
      ]
     },
     "execution_count": 14,
     "metadata": {},
     "output_type": "execute_result"
    }
   ],
   "source": [
    "#To count the number of not empty values for each row\n",
    "df.count()"
   ]
  },
  {
   "cell_type": "markdown",
   "id": "02636f16-565f-45f6-8d05-0f4c29869749",
   "metadata": {},
   "source": [
    "# Data Wragling"
   ]
  },
  {
   "cell_type": "code",
   "execution_count": 16,
   "id": "5e3ca33a-efd4-4d51-9ce2-505de32d3974",
   "metadata": {},
   "outputs": [],
   "source": [
    "#Dropping unnecessary column \n",
    "df.drop(\"id\",axis=1,inplace=True)"
   ]
  },
  {
   "cell_type": "code",
   "execution_count": 17,
   "id": "b95b7a6d-2311-42ce-b630-49f9016f69d2",
   "metadata": {},
   "outputs": [
    {
     "data": {
      "text/html": [
       "<div>\n",
       "<style scoped>\n",
       "    .dataframe tbody tr th:only-of-type {\n",
       "        vertical-align: middle;\n",
       "    }\n",
       "\n",
       "    .dataframe tbody tr th {\n",
       "        vertical-align: top;\n",
       "    }\n",
       "\n",
       "    .dataframe thead th {\n",
       "        text-align: right;\n",
       "    }\n",
       "</style>\n",
       "<table border=\"1\" class=\"dataframe\">\n",
       "  <thead>\n",
       "    <tr style=\"text-align: right;\">\n",
       "      <th></th>\n",
       "      <th>temperature</th>\n",
       "      <th>pressure</th>\n",
       "      <th>altitude</th>\n",
       "      <th>soilmiosture</th>\n",
       "      <th>note</th>\n",
       "      <th>status</th>\n",
       "      <th>class</th>\n",
       "      <th>date</th>\n",
       "      <th>time</th>\n",
       "    </tr>\n",
       "  </thead>\n",
       "  <tbody>\n",
       "    <tr>\n",
       "      <th>0</th>\n",
       "      <td>29.10</td>\n",
       "      <td>9984.53</td>\n",
       "      <td>-12.21</td>\n",
       "      <td>377</td>\n",
       "      <td>0</td>\n",
       "      <td>0</td>\n",
       "      <td>Very Dry</td>\n",
       "      <td>08-10-2022</td>\n",
       "      <td>22:06:24</td>\n",
       "    </tr>\n",
       "    <tr>\n",
       "      <th>1</th>\n",
       "      <td>29.08</td>\n",
       "      <td>9984.36</td>\n",
       "      <td>-12.22</td>\n",
       "      <td>379</td>\n",
       "      <td>0</td>\n",
       "      <td>0</td>\n",
       "      <td>Very Dry</td>\n",
       "      <td>08-10-2022</td>\n",
       "      <td>22:06:24</td>\n",
       "    </tr>\n",
       "    <tr>\n",
       "      <th>2</th>\n",
       "      <td>29.06</td>\n",
       "      <td>9984.56</td>\n",
       "      <td>-12.20</td>\n",
       "      <td>376</td>\n",
       "      <td>0</td>\n",
       "      <td>0</td>\n",
       "      <td>Very Dry</td>\n",
       "      <td>08-10-2022</td>\n",
       "      <td>22:06:24</td>\n",
       "    </tr>\n",
       "    <tr>\n",
       "      <th>3</th>\n",
       "      <td>29.05</td>\n",
       "      <td>9984.39</td>\n",
       "      <td>-12.22</td>\n",
       "      <td>377</td>\n",
       "      <td>0</td>\n",
       "      <td>0</td>\n",
       "      <td>Very Dry</td>\n",
       "      <td>08-10-2022</td>\n",
       "      <td>22:06:24</td>\n",
       "    </tr>\n",
       "    <tr>\n",
       "      <th>4</th>\n",
       "      <td>29.03</td>\n",
       "      <td>9984.42</td>\n",
       "      <td>-12.21</td>\n",
       "      <td>379</td>\n",
       "      <td>0</td>\n",
       "      <td>0</td>\n",
       "      <td>Very Dry</td>\n",
       "      <td>08-10-2022</td>\n",
       "      <td>22:06:24</td>\n",
       "    </tr>\n",
       "  </tbody>\n",
       "</table>\n",
       "</div>"
      ],
      "text/plain": [
       "   temperature  pressure  altitude  soilmiosture  note  status     class  \\\n",
       "0        29.10   9984.53    -12.21           377     0       0  Very Dry   \n",
       "1        29.08   9984.36    -12.22           379     0       0  Very Dry   \n",
       "2        29.06   9984.56    -12.20           376     0       0  Very Dry   \n",
       "3        29.05   9984.39    -12.22           377     0       0  Very Dry   \n",
       "4        29.03   9984.42    -12.21           379     0       0  Very Dry   \n",
       "\n",
       "         date      time  \n",
       "0  08-10-2022  22:06:24  \n",
       "1  08-10-2022  22:06:24  \n",
       "2  08-10-2022  22:06:24  \n",
       "3  08-10-2022  22:06:24  \n",
       "4  08-10-2022  22:06:24  "
      ]
     },
     "execution_count": 17,
     "metadata": {},
     "output_type": "execute_result"
    }
   ],
   "source": [
    "#Checking whether the column has been removed or not\n",
    "df.head()"
   ]
  },
  {
   "cell_type": "code",
   "execution_count": 18,
   "id": "24208871-0645-4f3b-9b7b-9b55ec8cd3c8",
   "metadata": {},
   "outputs": [
    {
     "data": {
      "text/plain": [
       "temperature     0\n",
       "pressure        0\n",
       "altitude        6\n",
       "soilmiosture    0\n",
       "note            0\n",
       "status          0\n",
       "class           0\n",
       "date            0\n",
       "time            0\n",
       "dtype: int64"
      ]
     },
     "execution_count": 18,
     "metadata": {},
     "output_type": "execute_result"
    }
   ],
   "source": [
    "df.isnull().sum()"
   ]
  },
  {
   "cell_type": "code",
   "execution_count": 19,
   "id": "a3c24245-1747-4715-88d7-377595e3d0e2",
   "metadata": {},
   "outputs": [
    {
     "data": {
      "text/plain": [
       "6"
      ]
     },
     "execution_count": 19,
     "metadata": {},
     "output_type": "execute_result"
    }
   ],
   "source": [
    "df.isnull().sum().sum()"
   ]
  },
  {
   "cell_type": "code",
   "execution_count": 20,
   "id": "1c4082b0-3ef9-4c23-b0ee-b79e0c854867",
   "metadata": {},
   "outputs": [
    {
     "data": {
      "text/plain": [
       "37"
      ]
     },
     "execution_count": 20,
     "metadata": {},
     "output_type": "execute_result"
    }
   ],
   "source": [
    "df.duplicated().sum()"
   ]
  },
  {
   "cell_type": "code",
   "execution_count": 134,
   "id": "c77235d6-8fe4-44e0-bb01-bcf85659a79c",
   "metadata": {},
   "outputs": [
    {
     "data": {
      "text/html": [
       "<div>\n",
       "<style scoped>\n",
       "    .dataframe tbody tr th:only-of-type {\n",
       "        vertical-align: middle;\n",
       "    }\n",
       "\n",
       "    .dataframe tbody tr th {\n",
       "        vertical-align: top;\n",
       "    }\n",
       "\n",
       "    .dataframe thead th {\n",
       "        text-align: right;\n",
       "    }\n",
       "</style>\n",
       "<table border=\"1\" class=\"dataframe\">\n",
       "  <thead>\n",
       "    <tr style=\"text-align: right;\">\n",
       "      <th></th>\n",
       "      <th>temperature</th>\n",
       "      <th>pressure</th>\n",
       "      <th>altitude</th>\n",
       "      <th>soilmiosture</th>\n",
       "      <th>note</th>\n",
       "      <th>status</th>\n",
       "      <th>class</th>\n",
       "    </tr>\n",
       "  </thead>\n",
       "  <tbody>\n",
       "    <tr>\n",
       "      <th>count</th>\n",
       "      <td>4647.000000</td>\n",
       "      <td>4647.000000</td>\n",
       "      <td>4647.000000</td>\n",
       "      <td>4647.000000</td>\n",
       "      <td>4647.000000</td>\n",
       "      <td>4647.000000</td>\n",
       "      <td>4647.000000</td>\n",
       "    </tr>\n",
       "    <tr>\n",
       "      <th>mean</th>\n",
       "      <td>29.415132</td>\n",
       "      <td>9978.865952</td>\n",
       "      <td>-14.284319</td>\n",
       "      <td>243.996557</td>\n",
       "      <td>1.876695</td>\n",
       "      <td>0.703895</td>\n",
       "      <td>0.076824</td>\n",
       "    </tr>\n",
       "    <tr>\n",
       "      <th>std</th>\n",
       "      <td>2.383188</td>\n",
       "      <td>1320.012272</td>\n",
       "      <td>2.653603</td>\n",
       "      <td>75.751883</td>\n",
       "      <td>1.153738</td>\n",
       "      <td>0.456587</td>\n",
       "      <td>0.266340</td>\n",
       "    </tr>\n",
       "    <tr>\n",
       "      <th>min</th>\n",
       "      <td>27.970000</td>\n",
       "      <td>9920.360000</td>\n",
       "      <td>-17.610000</td>\n",
       "      <td>-243.000000</td>\n",
       "      <td>0.000000</td>\n",
       "      <td>0.000000</td>\n",
       "      <td>0.000000</td>\n",
       "    </tr>\n",
       "    <tr>\n",
       "      <th>25%</th>\n",
       "      <td>28.635000</td>\n",
       "      <td>9935.440000</td>\n",
       "      <td>-16.340000</td>\n",
       "      <td>172.000000</td>\n",
       "      <td>1.000000</td>\n",
       "      <td>0.000000</td>\n",
       "      <td>0.000000</td>\n",
       "    </tr>\n",
       "    <tr>\n",
       "      <th>50%</th>\n",
       "      <td>29.190000</td>\n",
       "      <td>9969.670000</td>\n",
       "      <td>-13.460000</td>\n",
       "      <td>233.000000</td>\n",
       "      <td>2.000000</td>\n",
       "      <td>1.000000</td>\n",
       "      <td>0.000000</td>\n",
       "    </tr>\n",
       "    <tr>\n",
       "      <th>75%</th>\n",
       "      <td>29.990000</td>\n",
       "      <td>9975.730000</td>\n",
       "      <td>-12.950000</td>\n",
       "      <td>326.000000</td>\n",
       "      <td>3.000000</td>\n",
       "      <td>1.000000</td>\n",
       "      <td>0.000000</td>\n",
       "    </tr>\n",
       "    <tr>\n",
       "      <th>max</th>\n",
       "      <td>178.700000</td>\n",
       "      <td>99931.100000</td>\n",
       "      <td>116.700000</td>\n",
       "      <td>480.000000</td>\n",
       "      <td>3.000000</td>\n",
       "      <td>1.000000</td>\n",
       "      <td>1.000000</td>\n",
       "    </tr>\n",
       "  </tbody>\n",
       "</table>\n",
       "</div>"
      ],
      "text/plain": [
       "       temperature      pressure     altitude  soilmiosture         note  \\\n",
       "count  4647.000000   4647.000000  4647.000000   4647.000000  4647.000000   \n",
       "mean     29.415132   9978.865952   -14.284319    243.996557     1.876695   \n",
       "std       2.383188   1320.012272     2.653603     75.751883     1.153738   \n",
       "min      27.970000   9920.360000   -17.610000   -243.000000     0.000000   \n",
       "25%      28.635000   9935.440000   -16.340000    172.000000     1.000000   \n",
       "50%      29.190000   9969.670000   -13.460000    233.000000     2.000000   \n",
       "75%      29.990000   9975.730000   -12.950000    326.000000     3.000000   \n",
       "max     178.700000  99931.100000   116.700000    480.000000     3.000000   \n",
       "\n",
       "            status        class  \n",
       "count  4647.000000  4647.000000  \n",
       "mean      0.703895     0.076824  \n",
       "std       0.456587     0.266340  \n",
       "min       0.000000     0.000000  \n",
       "25%       0.000000     0.000000  \n",
       "50%       1.000000     0.000000  \n",
       "75%       1.000000     0.000000  \n",
       "max       1.000000     1.000000  "
      ]
     },
     "execution_count": 134,
     "metadata": {},
     "output_type": "execute_result"
    }
   ],
   "source": [
    "df.describe()"
   ]
  },
  {
   "cell_type": "code",
   "execution_count": 21,
   "id": "8af1ce61-f0be-430e-87cf-451d3643beff",
   "metadata": {},
   "outputs": [
    {
     "data": {
      "text/html": [
       "<div>\n",
       "<style scoped>\n",
       "    .dataframe tbody tr th:only-of-type {\n",
       "        vertical-align: middle;\n",
       "    }\n",
       "\n",
       "    .dataframe tbody tr th {\n",
       "        vertical-align: top;\n",
       "    }\n",
       "\n",
       "    .dataframe thead th {\n",
       "        text-align: right;\n",
       "    }\n",
       "</style>\n",
       "<table border=\"1\" class=\"dataframe\">\n",
       "  <thead>\n",
       "    <tr style=\"text-align: right;\">\n",
       "      <th></th>\n",
       "      <th>temperature</th>\n",
       "      <th>pressure</th>\n",
       "      <th>altitude</th>\n",
       "      <th>soilmiosture</th>\n",
       "      <th>note</th>\n",
       "      <th>status</th>\n",
       "      <th>class</th>\n",
       "      <th>date</th>\n",
       "      <th>time</th>\n",
       "    </tr>\n",
       "  </thead>\n",
       "  <tbody>\n",
       "    <tr>\n",
       "      <th>count</th>\n",
       "      <td>4688.000000</td>\n",
       "      <td>4688.000000</td>\n",
       "      <td>4682.000000</td>\n",
       "      <td>4688.000000</td>\n",
       "      <td>4688.000000</td>\n",
       "      <td>4688.000000</td>\n",
       "      <td>4688</td>\n",
       "      <td>4688</td>\n",
       "      <td>4688</td>\n",
       "    </tr>\n",
       "    <tr>\n",
       "      <th>unique</th>\n",
       "      <td>NaN</td>\n",
       "      <td>NaN</td>\n",
       "      <td>NaN</td>\n",
       "      <td>NaN</td>\n",
       "      <td>NaN</td>\n",
       "      <td>NaN</td>\n",
       "      <td>4</td>\n",
       "      <td>1</td>\n",
       "      <td>1</td>\n",
       "    </tr>\n",
       "    <tr>\n",
       "      <th>top</th>\n",
       "      <td>NaN</td>\n",
       "      <td>NaN</td>\n",
       "      <td>NaN</td>\n",
       "      <td>NaN</td>\n",
       "      <td>NaN</td>\n",
       "      <td>NaN</td>\n",
       "      <td>Very Wet</td>\n",
       "      <td>08-10-2022</td>\n",
       "      <td>22:06:24</td>\n",
       "    </tr>\n",
       "    <tr>\n",
       "      <th>freq</th>\n",
       "      <td>NaN</td>\n",
       "      <td>NaN</td>\n",
       "      <td>NaN</td>\n",
       "      <td>NaN</td>\n",
       "      <td>NaN</td>\n",
       "      <td>NaN</td>\n",
       "      <td>1842</td>\n",
       "      <td>4688</td>\n",
       "      <td>4688</td>\n",
       "    </tr>\n",
       "    <tr>\n",
       "      <th>mean</th>\n",
       "      <td>29.599089</td>\n",
       "      <td>9963.153215</td>\n",
       "      <td>-14.291506</td>\n",
       "      <td>243.692406</td>\n",
       "      <td>1.878413</td>\n",
       "      <td>0.703712</td>\n",
       "      <td>NaN</td>\n",
       "      <td>NaN</td>\n",
       "      <td>NaN</td>\n",
       "    </tr>\n",
       "    <tr>\n",
       "      <th>std</th>\n",
       "      <td>5.842685</td>\n",
       "      <td>1383.602527</td>\n",
       "      <td>2.649815</td>\n",
       "      <td>76.176855</td>\n",
       "      <td>1.152977</td>\n",
       "      <td>0.456668</td>\n",
       "      <td>NaN</td>\n",
       "      <td>NaN</td>\n",
       "      <td>NaN</td>\n",
       "    </tr>\n",
       "    <tr>\n",
       "      <th>min</th>\n",
       "      <td>27.970000</td>\n",
       "      <td>-2120.400000</td>\n",
       "      <td>-17.610000</td>\n",
       "      <td>-243.000000</td>\n",
       "      <td>0.000000</td>\n",
       "      <td>0.000000</td>\n",
       "      <td>NaN</td>\n",
       "      <td>NaN</td>\n",
       "      <td>NaN</td>\n",
       "    </tr>\n",
       "    <tr>\n",
       "      <th>25%</th>\n",
       "      <td>28.630000</td>\n",
       "      <td>9935.255000</td>\n",
       "      <td>-16.340000</td>\n",
       "      <td>171.000000</td>\n",
       "      <td>1.000000</td>\n",
       "      <td>0.000000</td>\n",
       "      <td>NaN</td>\n",
       "      <td>NaN</td>\n",
       "      <td>NaN</td>\n",
       "    </tr>\n",
       "    <tr>\n",
       "      <th>50%</th>\n",
       "      <td>29.180000</td>\n",
       "      <td>9969.535000</td>\n",
       "      <td>-13.470000</td>\n",
       "      <td>233.000000</td>\n",
       "      <td>2.000000</td>\n",
       "      <td>1.000000</td>\n",
       "      <td>NaN</td>\n",
       "      <td>NaN</td>\n",
       "      <td>NaN</td>\n",
       "    </tr>\n",
       "    <tr>\n",
       "      <th>75%</th>\n",
       "      <td>29.990000</td>\n",
       "      <td>9975.700000</td>\n",
       "      <td>-12.950000</td>\n",
       "      <td>326.000000</td>\n",
       "      <td>3.000000</td>\n",
       "      <td>1.000000</td>\n",
       "      <td>NaN</td>\n",
       "      <td>NaN</td>\n",
       "      <td>NaN</td>\n",
       "    </tr>\n",
       "    <tr>\n",
       "      <th>max</th>\n",
       "      <td>178.700000</td>\n",
       "      <td>99931.100000</td>\n",
       "      <td>116.700000</td>\n",
       "      <td>480.000000</td>\n",
       "      <td>3.000000</td>\n",
       "      <td>1.000000</td>\n",
       "      <td>NaN</td>\n",
       "      <td>NaN</td>\n",
       "      <td>NaN</td>\n",
       "    </tr>\n",
       "  </tbody>\n",
       "</table>\n",
       "</div>"
      ],
      "text/plain": [
       "        temperature      pressure     altitude  soilmiosture         note  \\\n",
       "count   4688.000000   4688.000000  4682.000000   4688.000000  4688.000000   \n",
       "unique          NaN           NaN          NaN           NaN          NaN   \n",
       "top             NaN           NaN          NaN           NaN          NaN   \n",
       "freq            NaN           NaN          NaN           NaN          NaN   \n",
       "mean      29.599089   9963.153215   -14.291506    243.692406     1.878413   \n",
       "std        5.842685   1383.602527     2.649815     76.176855     1.152977   \n",
       "min       27.970000  -2120.400000   -17.610000   -243.000000     0.000000   \n",
       "25%       28.630000   9935.255000   -16.340000    171.000000     1.000000   \n",
       "50%       29.180000   9969.535000   -13.470000    233.000000     2.000000   \n",
       "75%       29.990000   9975.700000   -12.950000    326.000000     3.000000   \n",
       "max      178.700000  99931.100000   116.700000    480.000000     3.000000   \n",
       "\n",
       "             status     class        date      time  \n",
       "count   4688.000000      4688        4688      4688  \n",
       "unique          NaN         4           1         1  \n",
       "top             NaN  Very Wet  08-10-2022  22:06:24  \n",
       "freq            NaN      1842        4688      4688  \n",
       "mean       0.703712       NaN         NaN       NaN  \n",
       "std        0.456668       NaN         NaN       NaN  \n",
       "min        0.000000       NaN         NaN       NaN  \n",
       "25%        0.000000       NaN         NaN       NaN  \n",
       "50%        1.000000       NaN         NaN       NaN  \n",
       "75%        1.000000       NaN         NaN       NaN  \n",
       "max        1.000000       NaN         NaN       NaN  "
      ]
     },
     "execution_count": 21,
     "metadata": {},
     "output_type": "execute_result"
    }
   ],
   "source": [
    "df.describe(include='all')"
   ]
  },
  {
   "cell_type": "code",
   "execution_count": 22,
   "id": "fbcafcb5-07ae-429d-aed6-6e31f341357c",
   "metadata": {},
   "outputs": [
    {
     "data": {
      "text/html": [
       "<div>\n",
       "<style scoped>\n",
       "    .dataframe tbody tr th:only-of-type {\n",
       "        vertical-align: middle;\n",
       "    }\n",
       "\n",
       "    .dataframe tbody tr th {\n",
       "        vertical-align: top;\n",
       "    }\n",
       "\n",
       "    .dataframe thead th {\n",
       "        text-align: right;\n",
       "    }\n",
       "</style>\n",
       "<table border=\"1\" class=\"dataframe\">\n",
       "  <thead>\n",
       "    <tr style=\"text-align: right;\">\n",
       "      <th></th>\n",
       "      <th>count</th>\n",
       "      <th>unique</th>\n",
       "      <th>top</th>\n",
       "      <th>freq</th>\n",
       "      <th>mean</th>\n",
       "      <th>std</th>\n",
       "      <th>min</th>\n",
       "      <th>25%</th>\n",
       "      <th>50%</th>\n",
       "      <th>75%</th>\n",
       "      <th>max</th>\n",
       "    </tr>\n",
       "  </thead>\n",
       "  <tbody>\n",
       "    <tr>\n",
       "      <th>temperature</th>\n",
       "      <td>4688.0</td>\n",
       "      <td>NaN</td>\n",
       "      <td>NaN</td>\n",
       "      <td>NaN</td>\n",
       "      <td>29.599089</td>\n",
       "      <td>5.842685</td>\n",
       "      <td>27.97</td>\n",
       "      <td>28.63</td>\n",
       "      <td>29.18</td>\n",
       "      <td>29.99</td>\n",
       "      <td>178.7</td>\n",
       "    </tr>\n",
       "    <tr>\n",
       "      <th>pressure</th>\n",
       "      <td>4688.0</td>\n",
       "      <td>NaN</td>\n",
       "      <td>NaN</td>\n",
       "      <td>NaN</td>\n",
       "      <td>9963.153215</td>\n",
       "      <td>1383.602527</td>\n",
       "      <td>-2120.4</td>\n",
       "      <td>9935.255</td>\n",
       "      <td>9969.535</td>\n",
       "      <td>9975.7</td>\n",
       "      <td>99931.1</td>\n",
       "    </tr>\n",
       "    <tr>\n",
       "      <th>altitude</th>\n",
       "      <td>4682.0</td>\n",
       "      <td>NaN</td>\n",
       "      <td>NaN</td>\n",
       "      <td>NaN</td>\n",
       "      <td>-14.291506</td>\n",
       "      <td>2.649815</td>\n",
       "      <td>-17.61</td>\n",
       "      <td>-16.34</td>\n",
       "      <td>-13.47</td>\n",
       "      <td>-12.95</td>\n",
       "      <td>116.7</td>\n",
       "    </tr>\n",
       "    <tr>\n",
       "      <th>soilmiosture</th>\n",
       "      <td>4688.0</td>\n",
       "      <td>NaN</td>\n",
       "      <td>NaN</td>\n",
       "      <td>NaN</td>\n",
       "      <td>243.692406</td>\n",
       "      <td>76.176855</td>\n",
       "      <td>-243.0</td>\n",
       "      <td>171.0</td>\n",
       "      <td>233.0</td>\n",
       "      <td>326.0</td>\n",
       "      <td>480.0</td>\n",
       "    </tr>\n",
       "    <tr>\n",
       "      <th>note</th>\n",
       "      <td>4688.0</td>\n",
       "      <td>NaN</td>\n",
       "      <td>NaN</td>\n",
       "      <td>NaN</td>\n",
       "      <td>1.878413</td>\n",
       "      <td>1.152977</td>\n",
       "      <td>0.0</td>\n",
       "      <td>1.0</td>\n",
       "      <td>2.0</td>\n",
       "      <td>3.0</td>\n",
       "      <td>3.0</td>\n",
       "    </tr>\n",
       "    <tr>\n",
       "      <th>status</th>\n",
       "      <td>4688.0</td>\n",
       "      <td>NaN</td>\n",
       "      <td>NaN</td>\n",
       "      <td>NaN</td>\n",
       "      <td>0.703712</td>\n",
       "      <td>0.456668</td>\n",
       "      <td>0.0</td>\n",
       "      <td>0.0</td>\n",
       "      <td>1.0</td>\n",
       "      <td>1.0</td>\n",
       "      <td>1.0</td>\n",
       "    </tr>\n",
       "    <tr>\n",
       "      <th>class</th>\n",
       "      <td>4688</td>\n",
       "      <td>4</td>\n",
       "      <td>Very Wet</td>\n",
       "      <td>1842</td>\n",
       "      <td>NaN</td>\n",
       "      <td>NaN</td>\n",
       "      <td>NaN</td>\n",
       "      <td>NaN</td>\n",
       "      <td>NaN</td>\n",
       "      <td>NaN</td>\n",
       "      <td>NaN</td>\n",
       "    </tr>\n",
       "    <tr>\n",
       "      <th>date</th>\n",
       "      <td>4688</td>\n",
       "      <td>1</td>\n",
       "      <td>08-10-2022</td>\n",
       "      <td>4688</td>\n",
       "      <td>NaN</td>\n",
       "      <td>NaN</td>\n",
       "      <td>NaN</td>\n",
       "      <td>NaN</td>\n",
       "      <td>NaN</td>\n",
       "      <td>NaN</td>\n",
       "      <td>NaN</td>\n",
       "    </tr>\n",
       "    <tr>\n",
       "      <th>time</th>\n",
       "      <td>4688</td>\n",
       "      <td>1</td>\n",
       "      <td>22:06:24</td>\n",
       "      <td>4688</td>\n",
       "      <td>NaN</td>\n",
       "      <td>NaN</td>\n",
       "      <td>NaN</td>\n",
       "      <td>NaN</td>\n",
       "      <td>NaN</td>\n",
       "      <td>NaN</td>\n",
       "      <td>NaN</td>\n",
       "    </tr>\n",
       "  </tbody>\n",
       "</table>\n",
       "</div>"
      ],
      "text/plain": [
       "               count unique         top  freq         mean          std  \\\n",
       "temperature   4688.0    NaN         NaN   NaN    29.599089     5.842685   \n",
       "pressure      4688.0    NaN         NaN   NaN  9963.153215  1383.602527   \n",
       "altitude      4682.0    NaN         NaN   NaN   -14.291506     2.649815   \n",
       "soilmiosture  4688.0    NaN         NaN   NaN   243.692406    76.176855   \n",
       "note          4688.0    NaN         NaN   NaN     1.878413     1.152977   \n",
       "status        4688.0    NaN         NaN   NaN     0.703712     0.456668   \n",
       "class           4688      4    Very Wet  1842          NaN          NaN   \n",
       "date            4688      1  08-10-2022  4688          NaN          NaN   \n",
       "time            4688      1    22:06:24  4688          NaN          NaN   \n",
       "\n",
       "                 min       25%       50%     75%      max  \n",
       "temperature    27.97     28.63     29.18   29.99    178.7  \n",
       "pressure     -2120.4  9935.255  9969.535  9975.7  99931.1  \n",
       "altitude      -17.61    -16.34    -13.47  -12.95    116.7  \n",
       "soilmiosture  -243.0     171.0     233.0   326.0    480.0  \n",
       "note             0.0       1.0       2.0     3.0      3.0  \n",
       "status           0.0       0.0       1.0     1.0      1.0  \n",
       "class            NaN       NaN       NaN     NaN      NaN  \n",
       "date             NaN       NaN       NaN     NaN      NaN  \n",
       "time             NaN       NaN       NaN     NaN      NaN  "
      ]
     },
     "execution_count": 22,
     "metadata": {},
     "output_type": "execute_result"
    }
   ],
   "source": [
    "df.describe(include='all').T"
   ]
  },
  {
   "cell_type": "code",
   "execution_count": 23,
   "id": "4b68bb72-0b89-4bad-82db-cb3bbc2adb99",
   "metadata": {},
   "outputs": [],
   "source": [
    "null_values_percentage =(df.isnull().sum()/df.isnull().count()*100).sort_values(ascending=False)"
   ]
  },
  {
   "cell_type": "code",
   "execution_count": 24,
   "id": "4a79c6a6-3c46-4c0c-ba6a-e86e7490dbac",
   "metadata": {},
   "outputs": [
    {
     "data": {
      "text/plain": [
       "altitude        0.127986\n",
       "temperature     0.000000\n",
       "pressure        0.000000\n",
       "soilmiosture    0.000000\n",
       "note            0.000000\n",
       "status          0.000000\n",
       "class           0.000000\n",
       "date            0.000000\n",
       "time            0.000000\n",
       "dtype: float64"
      ]
     },
     "execution_count": 24,
     "metadata": {},
     "output_type": "execute_result"
    }
   ],
   "source": [
    "null_values_percentage"
   ]
  },
  {
   "cell_type": "code",
   "execution_count": 25,
   "id": "bd04d2b0-32bc-4abb-bda4-e1307d0e523c",
   "metadata": {},
   "outputs": [
    {
     "data": {
      "text/plain": [
       "6"
      ]
     },
     "execution_count": 25,
     "metadata": {},
     "output_type": "execute_result"
    }
   ],
   "source": [
    "df.isnull().sum().sum()"
   ]
  },
  {
   "cell_type": "code",
   "execution_count": 26,
   "id": "06d417b4-5838-4b4c-b531-a96a15b04bf3",
   "metadata": {},
   "outputs": [
    {
     "data": {
      "image/png": "[encoded data removed]",
      "text/plain": [
       "<Figure size 640x480 with 1 Axes>"
      ]
     },
     "metadata": {},
     "output_type": "display_data"
    }
   ],
   "source": [
    "import matplotlib.pyplot as plt\n",
    "plt.hist(df['altitude'])\n",
    "plt.show()"
   ]
  },
  {
   "cell_type": "code",
   "execution_count": 27,
   "id": "62aebcad-0a04-4d75-8d36-ff459e0f556d",
   "metadata": {},
   "outputs": [
    {
     "data": {
      "text/plain": [
       "altitude        6\n",
       "temperature     0\n",
       "pressure        0\n",
       "soilmiosture    0\n",
       "note            0\n",
       "status          0\n",
       "class           0\n",
       "date            0\n",
       "time            0\n",
       "dtype: int64"
      ]
     },
     "execution_count": 27,
     "metadata": {},
     "output_type": "execute_result"
    }
   ],
   "source": [
    "df.isnull().sum().sort_values(ascending=False)"
   ]
  },
  {
   "cell_type": "code",
   "execution_count": 28,
   "id": "00b57b68-11c6-4c17-ac13-4370d0f78134",
   "metadata": {},
   "outputs": [],
   "source": [
    "df1 = df.dropna(subset=['altitude'],inplace=True)"
   ]
  },
  {
   "cell_type": "code",
   "execution_count": 29,
   "id": "2c18be09-661d-4ae3-94f7-1d67396b0816",
   "metadata": {},
   "outputs": [
    {
     "data": {
      "text/plain": [
       "temperature     0\n",
       "pressure        0\n",
       "altitude        0\n",
       "soilmiosture    0\n",
       "note            0\n",
       "status          0\n",
       "class           0\n",
       "date            0\n",
       "time            0\n",
       "dtype: int64"
      ]
     },
     "execution_count": 29,
     "metadata": {},
     "output_type": "execute_result"
    }
   ],
   "source": [
    "df.isnull().sum().sort_values(ascending=False)"
   ]
  },
  {
   "cell_type": "code",
   "execution_count": 30,
   "id": "d30435ca-7182-446e-bda3-be7e119c4715",
   "metadata": {},
   "outputs": [
    {
     "data": {
      "text/plain": [
       "35"
      ]
     },
     "execution_count": 30,
     "metadata": {},
     "output_type": "execute_result"
    }
   ],
   "source": [
    "df.duplicated().sum()"
   ]
  },
  {
   "cell_type": "code",
   "execution_count": 31,
   "id": "3b5dc493-2062-4ec1-a7c8-54ebc1683cfd",
   "metadata": {},
   "outputs": [
    {
     "data": {
      "text/plain": [
       "temperature     0\n",
       "pressure        0\n",
       "altitude        0\n",
       "soilmiosture    0\n",
       "note            0\n",
       "status          0\n",
       "class           0\n",
       "date            0\n",
       "time            0\n",
       "dtype: int64"
      ]
     },
     "execution_count": 31,
     "metadata": {},
     "output_type": "execute_result"
    }
   ],
   "source": [
    "df.isnull().sum().sort_values(ascending=False)"
   ]
  },
  {
   "cell_type": "code",
   "execution_count": 32,
   "id": "edc54b46-3dbe-4cab-b177-d62b625bc5f4",
   "metadata": {},
   "outputs": [
    {
     "data": {
      "text/plain": [
       "35"
      ]
     },
     "execution_count": 32,
     "metadata": {},
     "output_type": "execute_result"
    }
   ],
   "source": [
    "df.duplicated().sum()"
   ]
  },
  {
   "cell_type": "code",
   "execution_count": 33,
   "id": "a91eaafb-017e-4acb-8fc9-6857e8ad5bba",
   "metadata": {},
   "outputs": [],
   "source": [
    "df.drop_duplicates(inplace=True)"
   ]
  },
  {
   "cell_type": "code",
   "execution_count": 34,
   "id": "8ea9f26e-87d0-4d7b-9cd2-019a267839ec",
   "metadata": {},
   "outputs": [],
   "source": [
    "df.drop_duplicates(keep='last', inplace=True)"
   ]
  },
  {
   "cell_type": "code",
   "execution_count": 35,
   "id": "c6ea8231-6769-4484-af75-d59772a144b9",
   "metadata": {},
   "outputs": [
    {
     "name": "stdout",
     "output_type": "stream",
     "text": [
      "Number of duplicate rows after removal: 0\n"
     ]
    }
   ],
   "source": [
    "print(\"Number of duplicate rows after removal:\", df.duplicated().sum())"
   ]
  },
  {
   "cell_type": "code",
   "execution_count": 36,
   "id": "7d719800-b672-4974-940c-97d3c53914ce",
   "metadata": {},
   "outputs": [
    {
     "data": {
      "text/plain": [
       "0"
      ]
     },
     "execution_count": 36,
     "metadata": {},
     "output_type": "execute_result"
    }
   ],
   "source": [
    "df.duplicated().sum()"
   ]
  },
  {
   "cell_type": "code",
   "execution_count": 37,
   "id": "056efaf7-3f9c-459e-b115-a3d781763c02",
   "metadata": {},
   "outputs": [
    {
     "data": {
      "text/plain": [
       "class\n",
       "Dry          357\n",
       "Very Dry    1019\n",
       "Very Wet    1822\n",
       "Wet         1449\n",
       "dtype: int64"
      ]
     },
     "execution_count": 37,
     "metadata": {},
     "output_type": "execute_result"
    }
   ],
   "source": [
    "df.groupby('class').size() #One-Hot Encoding"
   ]
  },
  {
   "cell_type": "markdown",
   "id": "7daa40e4-5d7f-49f9-aa72-9ee34721a2b6",
   "metadata": {},
   "source": [
    "# Data Analysis"
   ]
  },
  {
   "cell_type": "code",
   "execution_count": 39,
   "id": "0fe497f0-a597-4404-b427-0d4f9b98d845",
   "metadata": {},
   "outputs": [
    {
     "data": {
      "image/png": "[encoded data removed]",
      "text/plain": [
       "<Figure size 640x480 with 1 Axes>"
      ]
     },
     "metadata": {},
     "output_type": "display_data"
    }
   ],
   "source": [
    "import matplotlib.pyplot as plt\n",
    "plt.hist(df['class'])\n",
    "plt.show()"
   ]
  },
  {
   "cell_type": "code",
   "execution_count": 40,
   "id": "53b964e6-6940-4594-8389-39b4660dfe4c",
   "metadata": {},
   "outputs": [
    {
     "data": {
      "text/plain": [
       "class\n",
       "Dry          357\n",
       "Very Dry    1019\n",
       "Very Wet    1822\n",
       "Wet         1449\n",
       "dtype: int64"
      ]
     },
     "execution_count": 40,
     "metadata": {},
     "output_type": "execute_result"
    }
   ],
   "source": [
    "df.groupby('class').size()"
   ]
  },
  {
   "cell_type": "code",
   "execution_count": 41,
   "id": "c21a2e70-0f11-477f-915f-21b5bbb267fd",
   "metadata": {},
   "outputs": [],
   "source": [
    "#Putting the count in a list\n",
    "List=[366,1023,1842,1457]\n"
   ]
  },
  {
   "cell_type": "code",
   "execution_count": 42,
   "id": "578463e4-d600-41a6-8852-768c7104e958",
   "metadata": {},
   "outputs": [
    {
     "data": {
      "image/png": "[encoded data removed]",
      "text/plain": [
       "<Figure size 640x480 with 1 Axes>"
      ]
     },
     "metadata": {},
     "output_type": "display_data"
    }
   ],
   "source": [
    "#Visualizing it using piechart\n",
    "import matplotlib.pyplot as plt\n",
    "plt.pie(List,labels=[\"Dry\",\"Very Dry\",\"Very wet\",\"Wet\"])\n",
    "plt.show()"
   ]
  },
  {
   "cell_type": "code",
   "execution_count": 43,
   "id": "eebac56f-fbbe-4ff8-a701-64f3ee791f60",
   "metadata": {},
   "outputs": [
    {
     "data": {
      "text/plain": [
       "<Axes: xlabel='class', ylabel='count'>"
      ]
     },
     "execution_count": 43,
     "metadata": {},
     "output_type": "execute_result"
    },
    {
     "data": {
      "image/png": "[encoded data removed]",
      "text/plain": [
       "<Figure size 640x480 with 1 Axes>"
      ]
     },
     "metadata": {},
     "output_type": "display_data"
    }
   ],
   "source": [
    "#Visualization of data using seaborn library\n",
    "import seaborn as sns\n",
    "#Visualizing class using countplot\n",
    "#A count plot is helpful when dealing with categorical values. It is used to plot the frequency of the different categories.\n",
    "sns.countplot(x='class',data=df)"
   ]
  },
  {
   "cell_type": "markdown",
   "id": "18726a3b-5aeb-43f8-8570-e409d4de1ddc",
   "metadata": {},
   "source": [
    "# Encoding Categorical Values"
   ]
  },
  {
   "cell_type": "code",
   "execution_count": 45,
   "id": "2452224a-de19-4631-9fea-f6216b04cd10",
   "metadata": {},
   "outputs": [
    {
     "data": {
      "text/plain": [
       "Index(['temperature', 'pressure', 'altitude', 'soilmiosture', 'note', 'status',\n",
       "       'class', 'date', 'time'],\n",
       "      dtype='object')"
      ]
     },
     "execution_count": 45,
     "metadata": {},
     "output_type": "execute_result"
    }
   ],
   "source": [
    "df.columns"
   ]
  },
  {
   "cell_type": "code",
   "execution_count": 46,
   "id": "dc406d50-e0bb-4fbe-82b7-66965c38bfbf",
   "metadata": {},
   "outputs": [
    {
     "data": {
      "text/plain": [
       "array([0., 0., 0., ..., 1., 1., 1.])"
      ]
     },
     "execution_count": 46,
     "metadata": {},
     "output_type": "execute_result"
    }
   ],
   "source": [
    "from sklearn.preprocessing import OneHotEncoder\n",
    "onehot_encoder=OneHotEncoder()\n",
    "df['class']=onehot_encoder.fit_transform(df[['class']]).toarray()\n",
    "df['class'].values"
   ]
  },
  {
   "cell_type": "code",
   "execution_count": 47,
   "id": "e67d2790-98b0-4790-b73f-7beb946c23c1",
   "metadata": {},
   "outputs": [
    {
     "data": {
      "text/plain": [
       "dtype('float64')"
      ]
     },
     "execution_count": 47,
     "metadata": {},
     "output_type": "execute_result"
    }
   ],
   "source": [
    "#Now checking data type of column class\n",
    "df['class'].dtype"
   ]
  },
  {
   "cell_type": "code",
   "execution_count": 48,
   "id": "8d4e6166-c8d0-4245-8289-22bad6750431",
   "metadata": {},
   "outputs": [
    {
     "data": {
      "text/html": [
       "<div>\n",
       "<style scoped>\n",
       "    .dataframe tbody tr th:only-of-type {\n",
       "        vertical-align: middle;\n",
       "    }\n",
       "\n",
       "    .dataframe tbody tr th {\n",
       "        vertical-align: top;\n",
       "    }\n",
       "\n",
       "    .dataframe thead th {\n",
       "        text-align: right;\n",
       "    }\n",
       "</style>\n",
       "<table border=\"1\" class=\"dataframe\">\n",
       "  <thead>\n",
       "    <tr style=\"text-align: right;\">\n",
       "      <th></th>\n",
       "      <th>temperature</th>\n",
       "      <th>pressure</th>\n",
       "      <th>altitude</th>\n",
       "      <th>soilmiosture</th>\n",
       "      <th>note</th>\n",
       "      <th>status</th>\n",
       "      <th>class</th>\n",
       "      <th>date</th>\n",
       "      <th>time</th>\n",
       "    </tr>\n",
       "  </thead>\n",
       "  <tbody>\n",
       "    <tr>\n",
       "      <th>0</th>\n",
       "      <td>29.10</td>\n",
       "      <td>9984.53</td>\n",
       "      <td>-12.21</td>\n",
       "      <td>377</td>\n",
       "      <td>0</td>\n",
       "      <td>0</td>\n",
       "      <td>0.0</td>\n",
       "      <td>08-10-2022</td>\n",
       "      <td>22:06:24</td>\n",
       "    </tr>\n",
       "    <tr>\n",
       "      <th>1</th>\n",
       "      <td>29.08</td>\n",
       "      <td>9984.36</td>\n",
       "      <td>-12.22</td>\n",
       "      <td>379</td>\n",
       "      <td>0</td>\n",
       "      <td>0</td>\n",
       "      <td>0.0</td>\n",
       "      <td>08-10-2022</td>\n",
       "      <td>22:06:24</td>\n",
       "    </tr>\n",
       "    <tr>\n",
       "      <th>2</th>\n",
       "      <td>29.06</td>\n",
       "      <td>9984.56</td>\n",
       "      <td>-12.20</td>\n",
       "      <td>376</td>\n",
       "      <td>0</td>\n",
       "      <td>0</td>\n",
       "      <td>0.0</td>\n",
       "      <td>08-10-2022</td>\n",
       "      <td>22:06:24</td>\n",
       "    </tr>\n",
       "    <tr>\n",
       "      <th>3</th>\n",
       "      <td>29.05</td>\n",
       "      <td>9984.39</td>\n",
       "      <td>-12.22</td>\n",
       "      <td>377</td>\n",
       "      <td>0</td>\n",
       "      <td>0</td>\n",
       "      <td>0.0</td>\n",
       "      <td>08-10-2022</td>\n",
       "      <td>22:06:24</td>\n",
       "    </tr>\n",
       "    <tr>\n",
       "      <th>4</th>\n",
       "      <td>29.03</td>\n",
       "      <td>9984.42</td>\n",
       "      <td>-12.21</td>\n",
       "      <td>379</td>\n",
       "      <td>0</td>\n",
       "      <td>0</td>\n",
       "      <td>0.0</td>\n",
       "      <td>08-10-2022</td>\n",
       "      <td>22:06:24</td>\n",
       "    </tr>\n",
       "  </tbody>\n",
       "</table>\n",
       "</div>"
      ],
      "text/plain": [
       "   temperature  pressure  altitude  soilmiosture  note  status  class  \\\n",
       "0        29.10   9984.53    -12.21           377     0       0    0.0   \n",
       "1        29.08   9984.36    -12.22           379     0       0    0.0   \n",
       "2        29.06   9984.56    -12.20           376     0       0    0.0   \n",
       "3        29.05   9984.39    -12.22           377     0       0    0.0   \n",
       "4        29.03   9984.42    -12.21           379     0       0    0.0   \n",
       "\n",
       "         date      time  \n",
       "0  08-10-2022  22:06:24  \n",
       "1  08-10-2022  22:06:24  \n",
       "2  08-10-2022  22:06:24  \n",
       "3  08-10-2022  22:06:24  \n",
       "4  08-10-2022  22:06:24  "
      ]
     },
     "execution_count": 48,
     "metadata": {},
     "output_type": "execute_result"
    }
   ],
   "source": [
    "#To display first 5 rows of new data\n",
    "df.head(5)"
   ]
  },
  {
   "cell_type": "markdown",
   "id": "6c1e8213-e805-4d36-89b4-cd8206937e72",
   "metadata": {},
   "source": [
    "# Correlation of columns\n"
   ]
  },
  {
   "cell_type": "code",
   "execution_count": 50,
   "id": "57b58d29-41ec-4c62-b9ec-9580a348507a",
   "metadata": {},
   "outputs": [
    {
     "data": {
      "text/html": [
       "<div>\n",
       "<style scoped>\n",
       "    .dataframe tbody tr th:only-of-type {\n",
       "        vertical-align: middle;\n",
       "    }\n",
       "\n",
       "    .dataframe tbody tr th {\n",
       "        vertical-align: top;\n",
       "    }\n",
       "\n",
       "    .dataframe thead th {\n",
       "        text-align: right;\n",
       "    }\n",
       "</style>\n",
       "<table border=\"1\" class=\"dataframe\">\n",
       "  <thead>\n",
       "    <tr style=\"text-align: right;\">\n",
       "      <th></th>\n",
       "      <th>temperature</th>\n",
       "      <th>pressure</th>\n",
       "      <th>altitude</th>\n",
       "      <th>soilmiosture</th>\n",
       "      <th>note</th>\n",
       "      <th>status</th>\n",
       "      <th>class</th>\n",
       "    </tr>\n",
       "  </thead>\n",
       "  <tbody>\n",
       "    <tr>\n",
       "      <th>temperature</th>\n",
       "      <td>1.000000</td>\n",
       "      <td>0.919949</td>\n",
       "      <td>0.706274</td>\n",
       "      <td>-0.088522</td>\n",
       "      <td>0.005415</td>\n",
       "      <td>0.016822</td>\n",
       "      <td>-0.040367</td>\n",
       "    </tr>\n",
       "    <tr>\n",
       "      <th>pressure</th>\n",
       "      <td>0.919949</td>\n",
       "      <td>1.000000</td>\n",
       "      <td>0.735509</td>\n",
       "      <td>-0.095871</td>\n",
       "      <td>0.003332</td>\n",
       "      <td>0.011393</td>\n",
       "      <td>-0.006724</td>\n",
       "    </tr>\n",
       "    <tr>\n",
       "      <th>altitude</th>\n",
       "      <td>0.706274</td>\n",
       "      <td>0.735509</td>\n",
       "      <td>1.000000</td>\n",
       "      <td>-0.133475</td>\n",
       "      <td>0.074978</td>\n",
       "      <td>0.085555</td>\n",
       "      <td>-0.107421</td>\n",
       "    </tr>\n",
       "    <tr>\n",
       "      <th>soilmiosture</th>\n",
       "      <td>-0.088522</td>\n",
       "      <td>-0.095871</td>\n",
       "      <td>-0.133475</td>\n",
       "      <td>1.000000</td>\n",
       "      <td>-0.972803</td>\n",
       "      <td>-0.897880</td>\n",
       "      <td>0.288940</td>\n",
       "    </tr>\n",
       "    <tr>\n",
       "      <th>note</th>\n",
       "      <td>0.005415</td>\n",
       "      <td>0.003332</td>\n",
       "      <td>0.074978</td>\n",
       "      <td>-0.972803</td>\n",
       "      <td>1.000000</td>\n",
       "      <td>0.909253</td>\n",
       "      <td>-0.219227</td>\n",
       "    </tr>\n",
       "    <tr>\n",
       "      <th>status</th>\n",
       "      <td>0.016822</td>\n",
       "      <td>0.011393</td>\n",
       "      <td>0.085555</td>\n",
       "      <td>-0.897880</td>\n",
       "      <td>0.909253</td>\n",
       "      <td>1.000000</td>\n",
       "      <td>-0.444771</td>\n",
       "    </tr>\n",
       "    <tr>\n",
       "      <th>class</th>\n",
       "      <td>-0.040367</td>\n",
       "      <td>-0.006724</td>\n",
       "      <td>-0.107421</td>\n",
       "      <td>0.288940</td>\n",
       "      <td>-0.219227</td>\n",
       "      <td>-0.444771</td>\n",
       "      <td>1.000000</td>\n",
       "    </tr>\n",
       "  </tbody>\n",
       "</table>\n",
       "</div>"
      ],
      "text/plain": [
       "              temperature  pressure  altitude  soilmiosture      note  \\\n",
       "temperature      1.000000  0.919949  0.706274     -0.088522  0.005415   \n",
       "pressure         0.919949  1.000000  0.735509     -0.095871  0.003332   \n",
       "altitude         0.706274  0.735509  1.000000     -0.133475  0.074978   \n",
       "soilmiosture    -0.088522 -0.095871 -0.133475      1.000000 -0.972803   \n",
       "note             0.005415  0.003332  0.074978     -0.972803  1.000000   \n",
       "status           0.016822  0.011393  0.085555     -0.897880  0.909253   \n",
       "class           -0.040367 -0.006724 -0.107421      0.288940 -0.219227   \n",
       "\n",
       "                status     class  \n",
       "temperature   0.016822 -0.040367  \n",
       "pressure      0.011393 -0.006724  \n",
       "altitude      0.085555 -0.107421  \n",
       "soilmiosture -0.897880  0.288940  \n",
       "note          0.909253 -0.219227  \n",
       "status        1.000000 -0.444771  \n",
       "class        -0.444771  1.000000  "
      ]
     },
     "execution_count": 50,
     "metadata": {},
     "output_type": "execute_result"
    }
   ],
   "source": [
    "#Finding the correlation \n",
    "#corr() function tells us how one column can influence the other\n",
    "data=df.iloc[:,0:7].corr()\n",
    "data"
   ]
  },
  {
   "cell_type": "code",
   "execution_count": 51,
   "id": "720640b9-0e08-46fe-bd5c-fc74d038d639",
   "metadata": {},
   "outputs": [
    {
     "data": {
      "text/plain": [
       "<Axes: >"
      ]
     },
     "execution_count": 51,
     "metadata": {},
     "output_type": "execute_result"
    },
    {
     "data": {
      "image/png": "[encoded data removed]",
      "text/plain": [
       "<Figure size 640x480 with 2 Axes>"
      ]
     },
     "metadata": {},
     "output_type": "display_data"
    }
   ],
   "source": [
    "#Visualize the correlation of above data using heatmap\n",
    "sns.heatmap(data,annot=True,fmt='.0%')"
   ]
  },
  {
   "cell_type": "code",
   "execution_count": 52,
   "id": "26025ffc-ec70-4a3c-b020-85336fa68d10",
   "metadata": {},
   "outputs": [
    {
     "data": {
      "text/plain": [
       "<seaborn.axisgrid.JointGrid at 0x12c1f6b8320>"
      ]
     },
     "execution_count": 52,
     "metadata": {},
     "output_type": "execute_result"
    },
    {
     "data": {
      "image/png": "[encoded data removed]",
      "text/plain": [
       "<Figure size 600x600 with 3 Axes>"
      ]
     },
     "metadata": {},
     "output_type": "display_data"
    }
   ],
   "source": [
    "sns.jointplot(x=\"class\", y=\"temperature\", data=df, marker=\"o\", color=\"blue\") #Joint Plot:"
   ]
  },
  {
   "cell_type": "code",
   "execution_count": 53,
   "id": "aebf8fe4-bf22-4e39-8202-3de23212004a",
   "metadata": {},
   "outputs": [
    {
     "data": {
      "text/plain": [
       "<Axes: xlabel='class', ylabel='temperature'>"
      ]
     },
     "execution_count": 53,
     "metadata": {},
     "output_type": "execute_result"
    },
    {
     "data": {
      "image/png": "[encoded data removed]",
      "text/plain": [
       "<Figure size 640x480 with 1 Axes>"
      ]
     },
     "metadata": {},
     "output_type": "display_data"
    }
   ],
   "source": [
    "sns.lineplot(x=\"class\", y=\"temperature\", data=df, marker=\"o\", color=\"blue\")"
   ]
  },
  {
   "cell_type": "code",
   "execution_count": 54,
   "id": "cb06ab44-8691-48ed-969a-d685091617c0",
   "metadata": {},
   "outputs": [
    {
     "data": {
      "text/plain": [
       "<Axes: xlabel='temperature', ylabel='count'>"
      ]
     },
     "execution_count": 54,
     "metadata": {},
     "output_type": "execute_result"
    },
    {
     "data": {
      "image/png": "[encoded data removed]",
      "text/plain": [
       "<Figure size 640x480 with 1 Axes>"
      ]
     },
     "metadata": {},
     "output_type": "display_data"
    }
   ],
   "source": [
    "sns.countplot(x=\"temperature\", data=df, color=\"Blue\")"
   ]
  },
  {
   "cell_type": "markdown",
   "id": "e998127a-8ca4-42fd-9c9e-f05ac8850c98",
   "metadata": {},
   "source": [
    "# Machine Learning"
   ]
  },
  {
   "cell_type": "code",
   "execution_count": 56,
   "id": "390e0dee-6c4c-42d9-9c35-ab0df7b30753",
   "metadata": {},
   "outputs": [],
   "source": [
    "#Dividing data into X and Y(converting into numpy)\n",
    "X=df.iloc[:,0:4].values  #Independent dataset \n",
    "Y=df.iloc[:,6].values    #Dependent dataset "
   ]
  },
  {
   "cell_type": "code",
   "execution_count": 57,
   "id": "4f519ac6-bbf1-4e69-9de7-e8efc772d889",
   "metadata": {},
   "outputs": [
    {
     "name": "stdout",
     "output_type": "stream",
     "text": [
      "[[  29.1  9984.53  -12.21  377.  ]\n",
      " [  29.08 9984.36  -12.22  379.  ]\n",
      " [  29.06 9984.56  -12.2   376.  ]\n",
      " ...\n",
      " [  29.29 9921.48  -17.51  328.  ]\n",
      " [  29.26 9921.51  -17.51  327.  ]\n",
      " [  29.28 9922.2   -17.45  323.  ]]\n"
     ]
    }
   ],
   "source": [
    "print(X)"
   ]
  },
  {
   "cell_type": "code",
   "execution_count": 58,
   "id": "b57b2628-8d78-4e27-b3ef-5ebfdda1bed2",
   "metadata": {},
   "outputs": [
    {
     "name": "stdout",
     "output_type": "stream",
     "text": [
      "[0. 0. 0. ... 1. 1. 1.]\n"
     ]
    }
   ],
   "source": [
    "print(Y)"
   ]
  },
  {
   "cell_type": "code",
   "execution_count": 59,
   "id": "79a41f08-282d-4638-aedb-bc0f185ae720",
   "metadata": {},
   "outputs": [],
   "source": [
    "from sklearn.model_selection import train_test_split\n",
    "X_train,X_test,Y_train,Y_test=train_test_split(X,Y,test_size=0.20,random_state=0)"
   ]
  },
  {
   "cell_type": "code",
   "execution_count": 60,
   "id": "f84e8bac-f1fb-49f8-b610-9c0c8731055f",
   "metadata": {},
   "outputs": [],
   "source": [
    "from sklearn.preprocessing import StandardScaler\n",
    "sc = StandardScaler()\n",
    "X_train = sc.fit_transform(X_train)\n",
    "X_test = sc.transform(X_test)"
   ]
  },
  {
   "cell_type": "code",
   "execution_count": 61,
   "id": "615a610f-96d7-4e1c-b15c-b6f9ad00c82c",
   "metadata": {},
   "outputs": [
    {
     "data": {
      "text/plain": [
       "array([[ 2.44176292,  0.67548879,  0.67441248, -0.25162166],\n",
       "       [ 1.73328742,  0.54569122,  0.54319263,  1.50992947],\n",
       "       [-0.47801491, -0.31824511, -0.32067137,  1.31125829],\n",
       "       ...,\n",
       "       [-1.32603862,  0.8968811 ,  0.89857972, -0.06619522],\n",
       "       [ 0.91746714,  0.19910408,  0.19874053, -0.31784538],\n",
       "       [-0.16671507,  0.08127366,  0.08392316, -1.05955112]])"
      ]
     },
     "execution_count": 61,
     "metadata": {},
     "output_type": "execute_result"
    }
   ],
   "source": [
    "X_train"
   ]
  },
  {
   "cell_type": "code",
   "execution_count": 62,
   "id": "f2e73c13-14e2-46b6-af4e-44c6573082b1",
   "metadata": {},
   "outputs": [
    {
     "data": {
      "text/plain": [
       "array([[-0.88592505,  0.858218  ,  0.86030726, -0.99332739],\n",
       "       [-1.49779025, -1.49562878, -1.49618252,  0.42386036],\n",
       "       [ 1.6474116 ,  0.52728021,  0.52679015,  0.95365017],\n",
       "       ...,\n",
       "       [ 0.70277759,  0.89826193,  0.89857972,  1.65562167],\n",
       "       [-1.17575594, -1.02752902, -1.02597806, -1.07279587],\n",
       "       [-0.58535968, -1.60103177, -1.6000649 , -1.01981688]])"
      ]
     },
     "execution_count": 62,
     "metadata": {},
     "output_type": "execute_result"
    }
   ],
   "source": [
    "X_test"
   ]
  },
  {
   "cell_type": "code",
   "execution_count": 63,
   "id": "c1701507-dbb2-4663-9b19-bf792086f7a6",
   "metadata": {},
   "outputs": [
    {
     "data": {
      "text/plain": [
       "array([0., 0., 0., ..., 0., 0., 0.])"
      ]
     },
     "execution_count": 63,
     "metadata": {},
     "output_type": "execute_result"
    }
   ],
   "source": [
    "Y_train"
   ]
  },
  {
   "cell_type": "code",
   "execution_count": 64,
   "id": "b144339f-0785-4b4e-b0f7-8b9ed8c726b3",
   "metadata": {},
   "outputs": [
    {
     "data": {
      "text/plain": [
       "array([0., 1., 1., 0., 0., 0., 0., 0., 1., 0., 0., 0., 0., 0., 0., 0., 0.,\n",
       "       1., 0., 0., 0., 0., 0., 0., 0., 0., 0., 0., 0., 0., 0., 0., 0., 0.,\n",
       "       0., 0., 0., 0., 0., 0., 0., 0., 0., 0., 0., 0., 0., 0., 0., 0., 0.,\n",
       "       0., 0., 0., 1., 0., 1., 1., 0., 0., 0., 0., 0., 0., 0., 0., 0., 0.,\n",
       "       0., 0., 0., 0., 0., 0., 0., 0., 0., 0., 0., 1., 1., 0., 0., 0., 0.,\n",
       "       0., 0., 0., 0., 0., 0., 0., 0., 0., 0., 0., 0., 0., 0., 0., 0., 0.,\n",
       "       1., 0., 0., 0., 0., 0., 0., 0., 1., 0., 0., 0., 0., 0., 0., 0., 0.,\n",
       "       0., 0., 0., 0., 1., 0., 0., 0., 0., 0., 0., 0., 0., 0., 0., 0., 0.,\n",
       "       0., 0., 0., 0., 0., 0., 0., 0., 0., 0., 0., 0., 0., 0., 0., 0., 0.,\n",
       "       0., 0., 0., 0., 0., 0., 0., 0., 0., 0., 0., 0., 0., 0., 0., 0., 0.,\n",
       "       0., 0., 0., 0., 0., 0., 0., 0., 0., 0., 0., 0., 0., 0., 0., 0., 0.,\n",
       "       0., 0., 0., 0., 0., 1., 0., 0., 0., 1., 0., 0., 0., 0., 1., 0., 1.,\n",
       "       0., 0., 0., 0., 0., 0., 0., 0., 0., 0., 0., 0., 0., 0., 0., 0., 0.,\n",
       "       1., 0., 0., 0., 0., 0., 0., 1., 0., 0., 0., 0., 0., 0., 0., 0., 0.,\n",
       "       1., 0., 0., 0., 0., 0., 0., 0., 0., 0., 0., 0., 0., 0., 0., 0., 0.,\n",
       "       0., 0., 0., 0., 0., 0., 0., 0., 0., 0., 0., 0., 0., 1., 1., 0., 0.,\n",
       "       0., 1., 0., 0., 0., 0., 0., 0., 0., 0., 0., 0., 0., 0., 0., 0., 0.,\n",
       "       0., 0., 0., 0., 0., 0., 1., 0., 0., 0., 0., 0., 0., 0., 0., 0., 0.,\n",
       "       0., 0., 1., 0., 0., 0., 1., 0., 0., 0., 0., 1., 0., 0., 0., 0., 0.,\n",
       "       0., 0., 0., 0., 0., 0., 0., 0., 1., 0., 0., 0., 0., 0., 0., 0., 0.,\n",
       "       1., 0., 0., 0., 0., 1., 1., 0., 1., 0., 0., 0., 0., 0., 0., 1., 0.,\n",
       "       0., 0., 0., 1., 0., 0., 0., 0., 0., 0., 0., 0., 0., 0., 1., 0., 0.,\n",
       "       0., 0., 0., 0., 0., 0., 0., 0., 0., 0., 0., 0., 0., 0., 1., 0., 0.,\n",
       "       0., 0., 0., 0., 0., 0., 1., 0., 0., 0., 0., 0., 0., 0., 1., 0., 0.,\n",
       "       0., 0., 0., 0., 1., 0., 0., 0., 0., 0., 0., 0., 1., 0., 0., 0., 0.,\n",
       "       0., 0., 0., 0., 0., 0., 0., 0., 0., 0., 0., 0., 0., 0., 0., 0., 0.,\n",
       "       0., 0., 0., 0., 0., 0., 0., 0., 1., 0., 0., 0., 0., 0., 1., 0., 0.,\n",
       "       0., 1., 0., 0., 0., 0., 0., 1., 0., 0., 1., 0., 0., 0., 0., 0., 0.,\n",
       "       0., 0., 0., 0., 0., 0., 0., 0., 0., 0., 0., 0., 0., 0., 0., 0., 0.,\n",
       "       0., 0., 0., 0., 0., 0., 0., 0., 0., 0., 0., 0., 0., 0., 0., 0., 0.,\n",
       "       1., 0., 0., 0., 0., 0., 0., 0., 0., 0., 0., 0., 0., 0., 0., 0., 0.,\n",
       "       0., 0., 0., 0., 0., 1., 1., 0., 0., 0., 1., 0., 0., 0., 0., 1., 0.,\n",
       "       0., 1., 0., 0., 0., 0., 0., 0., 0., 0., 0., 0., 0., 0., 0., 0., 0.,\n",
       "       0., 0., 1., 0., 0., 0., 0., 0., 0., 0., 0., 0., 0., 0., 0., 0., 0.,\n",
       "       0., 0., 0., 0., 0., 0., 0., 0., 0., 0., 0., 0., 0., 0., 0., 0., 1.,\n",
       "       0., 0., 0., 0., 0., 0., 0., 0., 0., 0., 0., 1., 0., 0., 0., 0., 1.,\n",
       "       0., 0., 1., 0., 0., 0., 0., 0., 0., 0., 1., 0., 0., 0., 1., 1., 0.,\n",
       "       0., 0., 0., 0., 0., 0., 0., 0., 0., 0., 0., 1., 0., 0., 0., 0., 0.,\n",
       "       0., 0., 0., 1., 0., 0., 0., 0., 0., 1., 1., 1., 0., 0., 0., 0., 0.,\n",
       "       1., 0., 0., 0., 0., 0., 0., 0., 0., 0., 0., 0., 0., 0., 0., 0., 0.,\n",
       "       0., 0., 0., 0., 0., 0., 0., 0., 0., 0., 0., 0., 1., 0., 0., 0., 0.,\n",
       "       0., 0., 0., 0., 0., 0., 0., 0., 1., 0., 0., 0., 0., 0., 0., 0., 0.,\n",
       "       0., 0., 0., 0., 0., 0., 0., 0., 0., 0., 0., 0., 0., 0., 0., 0., 0.,\n",
       "       0., 0., 0., 0., 0., 0., 0., 0., 0., 0., 0., 0., 0., 0., 1., 0., 0.,\n",
       "       0., 0., 0., 0., 0., 0., 0., 0., 0., 0., 0., 0., 0., 0., 1., 0., 0.,\n",
       "       0., 0., 0., 0., 0., 0., 0., 0., 0., 0., 0., 0., 0., 0., 0., 0., 0.,\n",
       "       0., 0., 0., 0., 0., 0., 0., 0., 0., 0., 0., 0., 0., 0., 0., 0., 0.,\n",
       "       0., 0., 0., 0., 0., 1., 0., 0., 0., 0., 0., 0., 0., 0., 0., 0., 0.,\n",
       "       0., 0., 0., 0., 0., 1., 0., 0., 0., 1., 0., 0., 0., 0., 0., 1., 0.,\n",
       "       0., 0., 0., 0., 0., 0., 0., 0., 0., 0., 0., 0., 0., 0., 0., 0., 0.,\n",
       "       0., 0., 0., 0., 0., 0., 0., 0., 0., 0., 0., 0., 0., 0., 0., 1., 0.,\n",
       "       0., 1., 1., 0., 0., 0., 0., 0., 1., 0., 0., 0., 0., 0., 0., 1., 0.,\n",
       "       0., 0., 0., 0., 0., 0., 0., 0., 0., 0., 0., 0., 0., 0., 0., 0., 0.,\n",
       "       0., 0., 0., 0., 0., 1., 0., 0., 1., 0., 0., 0., 0., 0., 0., 0., 0.,\n",
       "       0., 0., 0., 0., 0., 0., 0., 0., 0., 0., 0., 0.])"
      ]
     },
     "execution_count": 64,
     "metadata": {},
     "output_type": "execute_result"
    }
   ],
   "source": [
    "Y_test"
   ]
  },
  {
   "cell_type": "markdown",
   "id": "4d17a239-a63c-4390-9c19-9bc1265a9f19",
   "metadata": {},
   "source": [
    "# Logistic Regression"
   ]
  },
  {
   "cell_type": "code",
   "execution_count": 66,
   "id": "a05cbedb-20cc-4202-a963-662a226bdda7",
   "metadata": {},
   "outputs": [
    {
     "data": {
      "text/html": [
       "<style>#sk-container-id-1 {\n",
       "  /* Definition of color scheme common for light and dark mode */\n",
       "  --sklearn-color-text: black;\n",
       "  --sklearn-color-line: gray;\n",
       "  /* Definition of color scheme for unfitted estimators */\n",
       "  --sklearn-color-unfitted-level-0: #fff5e6;\n",
       "  --sklearn-color-unfitted-level-1: #f6e4d2;\n",
       "  --sklearn-color-unfitted-level-2: #ffe0b3;\n",
       "  --sklearn-color-unfitted-level-3: chocolate;\n",
       "  /* Definition of color scheme for fitted estimators */\n",
       "  --sklearn-color-fitted-level-0: #f0f8ff;\n",
       "  --sklearn-color-fitted-level-1: #d4ebff;\n",
       "  --sklearn-color-fitted-level-2: #b3dbfd;\n",
       "  --sklearn-color-fitted-level-3: cornflowerblue;\n",
       "\n",
       "  /* Specific color for light theme */\n",
       "  --sklearn-color-text-on-default-background: var(--sg-text-color, var(--theme-code-foreground, var(--jp-content-font-color1, black)));\n",
       "  --sklearn-color-background: var(--sg-background-color, var(--theme-background, var(--jp-layout-color0, white)));\n",
       "  --sklearn-color-border-box: var(--sg-text-color, var(--theme-code-foreground, var(--jp-content-font-color1, black)));\n",
       "  --sklearn-color-icon: #696969;\n",
       "\n",
       "  @media (prefers-color-scheme: dark) {\n",
       "    /* Redefinition of color scheme for dark theme */\n",
       "    --sklearn-color-text-on-default-background: var(--sg-text-color, var(--theme-code-foreground, var(--jp-content-font-color1, white)));\n",
       "    --sklearn-color-background: var(--sg-background-color, var(--theme-background, var(--jp-layout-color0, #111)));\n",
       "    --sklearn-color-border-box: var(--sg-text-color, var(--theme-code-foreground, var(--jp-content-font-color1, white)));\n",
       "    --sklearn-color-icon: #878787;\n",
       "  }\n",
       "}\n",
       "\n",
       "#sk-container-id-1 {\n",
       "  color: var(--sklearn-color-text);\n",
       "}\n",
       "\n",
       "#sk-container-id-1 pre {\n",
       "  padding: 0;\n",
       "}\n",
       "\n",
       "#sk-container-id-1 input.sk-hidden--visually {\n",
       "  border: 0;\n",
       "  clip: rect(1px 1px 1px 1px);\n",
       "  clip: rect(1px, 1px, 1px, 1px);\n",
       "  height: 1px;\n",
       "  margin: -1px;\n",
       "  overflow: hidden;\n",
       "  padding: 0;\n",
       "  position: absolute;\n",
       "  width: 1px;\n",
       "}\n",
       "\n",
       "#sk-container-id-1 div.sk-dashed-wrapped {\n",
       "  border: 1px dashed var(--sklearn-color-line);\n",
       "  margin: 0 0.4em 0.5em 0.4em;\n",
       "  box-sizing: border-box;\n",
       "  padding-bottom: 0.4em;\n",
       "  background-color: var(--sklearn-color-background);\n",
       "}\n",
       "\n",
       "#sk-container-id-1 div.sk-container {\n",
       "  /* jupyter's `normalize.less` sets `[hidden] { display: none; }`\n",
       "     but bootstrap.min.css set `[hidden] { display: none !important; }`\n",
       "     so we also need the `!important` here to be able to override the\n",
       "     default hidden behavior on the sphinx rendered scikit-learn.org.\n",
       "     See: https://github.com/scikit-learn/scikit-learn/issues/21755 */\n",
       "  display: inline-block !important;\n",
       "  position: relative;\n",
       "}\n",
       "\n",
       "#sk-container-id-1 div.sk-text-repr-fallback {\n",
       "  display: none;\n",
       "}\n",
       "\n",
       "div.sk-parallel-item,\n",
       "div.sk-serial,\n",
       "div.sk-item {\n",
       "  /* draw centered vertical line to link estimators */\n",
       "  background-image: linear-gradient(var(--sklearn-color-text-on-default-background), var(--sklearn-color-text-on-default-background));\n",
       "  background-size: 2px 100%;\n",
       "  background-repeat: no-repeat;\n",
       "  background-position: center center;\n",
       "}\n",
       "\n",
       "/* Parallel-specific style estimator block */\n",
       "\n",
       "#sk-container-id-1 div.sk-parallel-item::after {\n",
       "  content: \"\";\n",
       "  width: 100%;\n",
       "  border-bottom: 2px solid var(--sklearn-color-text-on-default-background);\n",
       "  flex-grow: 1;\n",
       "}\n",
       "\n",
       "#sk-container-id-1 div.sk-parallel {\n",
       "  display: flex;\n",
       "  align-items: stretch;\n",
       "  justify-content: center;\n",
       "  background-color: var(--sklearn-color-background);\n",
       "  position: relative;\n",
       "}\n",
       "\n",
       "#sk-container-id-1 div.sk-parallel-item {\n",
       "  display: flex;\n",
       "  flex-direction: column;\n",
       "}\n",
       "\n",
       "#sk-container-id-1 div.sk-parallel-item:first-child::after {\n",
       "  align-self: flex-end;\n",
       "  width: 50%;\n",
       "}\n",
       "\n",
       "#sk-container-id-1 div.sk-parallel-item:last-child::after {\n",
       "  align-self: flex-start;\n",
       "  width: 50%;\n",
       "}\n",
       "\n",
       "#sk-container-id-1 div.sk-parallel-item:only-child::after {\n",
       "  width: 0;\n",
       "}\n",
       "\n",
       "/* Serial-specific style estimator block */\n",
       "\n",
       "#sk-container-id-1 div.sk-serial {\n",
       "  display: flex;\n",
       "  flex-direction: column;\n",
       "  align-items: center;\n",
       "  background-color: var(--sklearn-color-background);\n",
       "  padding-right: 1em;\n",
       "  padding-left: 1em;\n",
       "}\n",
       "\n",
       "\n",
       "/* Toggleable style: style used for estimator/Pipeline/ColumnTransformer box that is\n",
       "clickable and can be expanded/collapsed.\n",
       "- Pipeline and ColumnTransformer use this feature and define the default style\n",
       "- Estimators will overwrite some part of the style using the `sk-estimator` class\n",
       "*/\n",
       "\n",
       "/* Pipeline and ColumnTransformer style (default) */\n",
       "\n",
       "#sk-container-id-1 div.sk-toggleable {\n",
       "  /* Default theme specific background. It is overwritten whether we have a\n",
       "  specific estimator or a Pipeline/ColumnTransformer */\n",
       "  background-color: var(--sklearn-color-background);\n",
       "}\n",
       "\n",
       "/* Toggleable label */\n",
       "#sk-container-id-1 label.sk-toggleable__label {\n",
       "  cursor: pointer;\n",
       "  display: block;\n",
       "  width: 100%;\n",
       "  margin-bottom: 0;\n",
       "  padding: 0.5em;\n",
       "  box-sizing: border-box;\n",
       "  text-align: center;\n",
       "}\n",
       "\n",
       "#sk-container-id-1 label.sk-toggleable__label-arrow:before {\n",
       "  /* Arrow on the left of the label */\n",
       "  content: \"▸\";\n",
       "  float: left;\n",
       "  margin-right: 0.25em;\n",
       "  color: var(--sklearn-color-icon);\n",
       "}\n",
       "\n",
       "#sk-container-id-1 label.sk-toggleable__label-arrow:hover:before {\n",
       "  color: var(--sklearn-color-text);\n",
       "}\n",
       "\n",
       "/* Toggleable content - dropdown */\n",
       "\n",
       "#sk-container-id-1 div.sk-toggleable__content {\n",
       "  max-height: 0;\n",
       "  max-width: 0;\n",
       "  overflow: hidden;\n",
       "  text-align: left;\n",
       "  /* unfitted */\n",
       "  background-color: var(--sklearn-color-unfitted-level-0);\n",
       "}\n",
       "\n",
       "#sk-container-id-1 div.sk-toggleable__content.fitted {\n",
       "  /* fitted */\n",
       "  background-color: var(--sklearn-color-fitted-level-0);\n",
       "}\n",
       "\n",
       "#sk-container-id-1 div.sk-toggleable__content pre {\n",
       "  margin: 0.2em;\n",
       "  border-radius: 0.25em;\n",
       "  color: var(--sklearn-color-text);\n",
       "  /* unfitted */\n",
       "  background-color: var(--sklearn-color-unfitted-level-0);\n",
       "}\n",
       "\n",
       "#sk-container-id-1 div.sk-toggleable__content.fitted pre {\n",
       "  /* unfitted */\n",
       "  background-color: var(--sklearn-color-fitted-level-0);\n",
       "}\n",
       "\n",
       "#sk-container-id-1 input.sk-toggleable__control:checked~div.sk-toggleable__content {\n",
       "  /* Expand drop-down */\n",
       "  max-height: 200px;\n",
       "  max-width: 100%;\n",
       "  overflow: auto;\n",
       "}\n",
       "\n",
       "#sk-container-id-1 input.sk-toggleable__control:checked~label.sk-toggleable__label-arrow:before {\n",
       "  content: \"▾\";\n",
       "}\n",
       "\n",
       "/* Pipeline/ColumnTransformer-specific style */\n",
       "\n",
       "#sk-container-id-1 div.sk-label input.sk-toggleable__control:checked~label.sk-toggleable__label {\n",
       "  color: var(--sklearn-color-text);\n",
       "  background-color: var(--sklearn-color-unfitted-level-2);\n",
       "}\n",
       "\n",
       "#sk-container-id-1 div.sk-label.fitted input.sk-toggleable__control:checked~label.sk-toggleable__label {\n",
       "  background-color: var(--sklearn-color-fitted-level-2);\n",
       "}\n",
       "\n",
       "/* Estimator-specific style */\n",
       "\n",
       "/* Colorize estimator box */\n",
       "#sk-container-id-1 div.sk-estimator input.sk-toggleable__control:checked~label.sk-toggleable__label {\n",
       "  /* unfitted */\n",
       "  background-color: var(--sklearn-color-unfitted-level-2);\n",
       "}\n",
       "\n",
       "#sk-container-id-1 div.sk-estimator.fitted input.sk-toggleable__control:checked~label.sk-toggleable__label {\n",
       "  /* fitted */\n",
       "  background-color: var(--sklearn-color-fitted-level-2);\n",
       "}\n",
       "\n",
       "#sk-container-id-1 div.sk-label label.sk-toggleable__label,\n",
       "#sk-container-id-1 div.sk-label label {\n",
       "  /* The background is the default theme color */\n",
       "  color: var(--sklearn-color-text-on-default-background);\n",
       "}\n",
       "\n",
       "/* On hover, darken the color of the background */\n",
       "#sk-container-id-1 div.sk-label:hover label.sk-toggleable__label {\n",
       "  color: var(--sklearn-color-text);\n",
       "  background-color: var(--sklearn-color-unfitted-level-2);\n",
       "}\n",
       "\n",
       "/* Label box, darken color on hover, fitted */\n",
       "#sk-container-id-1 div.sk-label.fitted:hover label.sk-toggleable__label.fitted {\n",
       "  color: var(--sklearn-color-text);\n",
       "  background-color: var(--sklearn-color-fitted-level-2);\n",
       "}\n",
       "\n",
       "/* Estimator label */\n",
       "\n",
       "#sk-container-id-1 div.sk-label label {\n",
       "  font-family: monospace;\n",
       "  font-weight: bold;\n",
       "  display: inline-block;\n",
       "  line-height: 1.2em;\n",
       "}\n",
       "\n",
       "#sk-container-id-1 div.sk-label-container {\n",
       "  text-align: center;\n",
       "}\n",
       "\n",
       "/* Estimator-specific */\n",
       "#sk-container-id-1 div.sk-estimator {\n",
       "  font-family: monospace;\n",
       "  border: 1px dotted var(--sklearn-color-border-box);\n",
       "  border-radius: 0.25em;\n",
       "  box-sizing: border-box;\n",
       "  margin-bottom: 0.5em;\n",
       "  /* unfitted */\n",
       "  background-color: var(--sklearn-color-unfitted-level-0);\n",
       "}\n",
       "\n",
       "#sk-container-id-1 div.sk-estimator.fitted {\n",
       "  /* fitted */\n",
       "  background-color: var(--sklearn-color-fitted-level-0);\n",
       "}\n",
       "\n",
       "/* on hover */\n",
       "#sk-container-id-1 div.sk-estimator:hover {\n",
       "  /* unfitted */\n",
       "  background-color: var(--sklearn-color-unfitted-level-2);\n",
       "}\n",
       "\n",
       "#sk-container-id-1 div.sk-estimator.fitted:hover {\n",
       "  /* fitted */\n",
       "  background-color: var(--sklearn-color-fitted-level-2);\n",
       "}\n",
       "\n",
       "/* Specification for estimator info (e.g. \"i\" and \"?\") */\n",
       "\n",
       "/* Common style for \"i\" and \"?\" */\n",
       "\n",
       ".sk-estimator-doc-link,\n",
       "a:link.sk-estimator-doc-link,\n",
       "a:visited.sk-estimator-doc-link {\n",
       "  float: right;\n",
       "  font-size: smaller;\n",
       "  line-height: 1em;\n",
       "  font-family: monospace;\n",
       "  background-color: var(--sklearn-color-background);\n",
       "  border-radius: 1em;\n",
       "  height: 1em;\n",
       "  width: 1em;\n",
       "  text-decoration: none !important;\n",
       "  margin-left: 1ex;\n",
       "  /* unfitted */\n",
       "  border: var(--sklearn-color-unfitted-level-1) 1pt solid;\n",
       "  color: var(--sklearn-color-unfitted-level-1);\n",
       "}\n",
       "\n",
       ".sk-estimator-doc-link.fitted,\n",
       "a:link.sk-estimator-doc-link.fitted,\n",
       "a:visited.sk-estimator-doc-link.fitted {\n",
       "  /* fitted */\n",
       "  border: var(--sklearn-color-fitted-level-1) 1pt solid;\n",
       "  color: var(--sklearn-color-fitted-level-1);\n",
       "}\n",
       "\n",
       "/* On hover */\n",
       "div.sk-estimator:hover .sk-estimator-doc-link:hover,\n",
       ".sk-estimator-doc-link:hover,\n",
       "div.sk-label-container:hover .sk-estimator-doc-link:hover,\n",
       ".sk-estimator-doc-link:hover {\n",
       "  /* unfitted */\n",
       "  background-color: var(--sklearn-color-unfitted-level-3);\n",
       "  color: var(--sklearn-color-background);\n",
       "  text-decoration: none;\n",
       "}\n",
       "\n",
       "div.sk-estimator.fitted:hover .sk-estimator-doc-link.fitted:hover,\n",
       ".sk-estimator-doc-link.fitted:hover,\n",
       "div.sk-label-container:hover .sk-estimator-doc-link.fitted:hover,\n",
       ".sk-estimator-doc-link.fitted:hover {\n",
       "  /* fitted */\n",
       "  background-color: var(--sklearn-color-fitted-level-3);\n",
       "  color: var(--sklearn-color-background);\n",
       "  text-decoration: none;\n",
       "}\n",
       "\n",
       "/* Span, style for the box shown on hovering the info icon */\n",
       ".sk-estimator-doc-link span {\n",
       "  display: none;\n",
       "  z-index: 9999;\n",
       "  position: relative;\n",
       "  font-weight: normal;\n",
       "  right: .2ex;\n",
       "  padding: .5ex;\n",
       "  margin: .5ex;\n",
       "  width: min-content;\n",
       "  min-width: 20ex;\n",
       "  max-width: 50ex;\n",
       "  color: var(--sklearn-color-text);\n",
       "  box-shadow: 2pt 2pt 4pt #999;\n",
       "  /* unfitted */\n",
       "  background: var(--sklearn-color-unfitted-level-0);\n",
       "  border: .5pt solid var(--sklearn-color-unfitted-level-3);\n",
       "}\n",
       "\n",
       ".sk-estimator-doc-link.fitted span {\n",
       "  /* fitted */\n",
       "  background: var(--sklearn-color-fitted-level-0);\n",
       "  border: var(--sklearn-color-fitted-level-3);\n",
       "}\n",
       "\n",
       ".sk-estimator-doc-link:hover span {\n",
       "  display: block;\n",
       "}\n",
       "\n",
       "/* \"?\"-specific style due to the `<a>` HTML tag */\n",
       "\n",
       "#sk-container-id-1 a.estimator_doc_link {\n",
       "  float: right;\n",
       "  font-size: 1rem;\n",
       "  line-height: 1em;\n",
       "  font-family: monospace;\n",
       "  background-color: var(--sklearn-color-background);\n",
       "  border-radius: 1rem;\n",
       "  height: 1rem;\n",
       "  width: 1rem;\n",
       "  text-decoration: none;\n",
       "  /* unfitted */\n",
       "  color: var(--sklearn-color-unfitted-level-1);\n",
       "  border: var(--sklearn-color-unfitted-level-1) 1pt solid;\n",
       "}\n",
       "\n",
       "#sk-container-id-1 a.estimator_doc_link.fitted {\n",
       "  /* fitted */\n",
       "  border: var(--sklearn-color-fitted-level-1) 1pt solid;\n",
       "  color: var(--sklearn-color-fitted-level-1);\n",
       "}\n",
       "\n",
       "/* On hover */\n",
       "#sk-container-id-1 a.estimator_doc_link:hover {\n",
       "  /* unfitted */\n",
       "  background-color: var(--sklearn-color-unfitted-level-3);\n",
       "  color: var(--sklearn-color-background);\n",
       "  text-decoration: none;\n",
       "}\n",
       "\n",
       "#sk-container-id-1 a.estimator_doc_link.fitted:hover {\n",
       "  /* fitted */\n",
       "  background-color: var(--sklearn-color-fitted-level-3);\n",
       "}\n",
       "</style><div id=\"sk-container-id-1\" class=\"sk-top-container\"><div class=\"sk-text-repr-fallback\"><pre>LogisticRegression()</pre><b>In a Jupyter environment, please rerun this cell to show the HTML representation or trust the notebook. <br />On GitHub, the HTML representation is unable to render, please try loading this page with nbviewer.org.</b></div><div class=\"sk-container\" hidden><div class=\"sk-item\"><div class=\"sk-estimator fitted sk-toggleable\"><input class=\"sk-toggleable__control sk-hidden--visually\" id=\"sk-estimator-id-1\" type=\"checkbox\" checked><label for=\"sk-estimator-id-1\" class=\"sk-toggleable__label fitted sk-toggleable__label-arrow fitted\">&nbsp;&nbsp;LogisticRegression<a class=\"sk-estimator-doc-link fitted\" rel=\"noreferrer\" target=\"_blank\" href=\"https://scikit-learn.org/1.5/modules/generated/sklearn.linear_model.LogisticRegression.html\">?<span>Documentation for LogisticRegression</span></a><span class=\"sk-estimator-doc-link fitted\">i<span>Fitted</span></span></label><div class=\"sk-toggleable__content fitted\"><pre>LogisticRegression()</pre></div> </div></div></div></div>"
      ],
      "text/plain": [
       "LogisticRegression()"
      ]
     },
     "execution_count": 66,
     "metadata": {},
     "output_type": "execute_result"
    }
   ],
   "source": [
    "#Fitting the Logistic Regression model on X and Y\n",
    "from sklearn.linear_model import LogisticRegression\n",
    "model1=LogisticRegression()\n",
    "model1.fit(X_train,Y_train)"
   ]
  },
  {
   "cell_type": "code",
   "execution_count": 67,
   "id": "0dd2cb0f-e68a-4c5a-8291-182f657ff5eb",
   "metadata": {},
   "outputs": [],
   "source": [
    "# prediction of this model \n",
    "pred1=model1.predict(X_test)"
   ]
  },
  {
   "cell_type": "code",
   "execution_count": 68,
   "id": "40371c98-aec4-4652-8818-3f88f86326b9",
   "metadata": {},
   "outputs": [
    {
     "data": {
      "text/plain": [
       "0.9139784946236559"
      ]
     },
     "execution_count": 68,
     "metadata": {},
     "output_type": "execute_result"
    }
   ],
   "source": [
    "#Testing model accuracy on test data\n",
    "from sklearn.metrics import accuracy_score\n",
    "accuracy_score(Y_test,pred1)"
   ]
  },
  {
   "cell_type": "code",
   "execution_count": 69,
   "id": "61bdc2fb-e0dc-4169-a758-4b2b6874ce80",
   "metadata": {},
   "outputs": [
    {
     "name": "stdout",
     "output_type": "stream",
     "text": [
      "[[850   1]\n",
      " [ 79   0]]\n"
     ]
    }
   ],
   "source": [
    "#Confusion Matrix\n",
    "from sklearn.metrics import confusion_matrix\n",
    "print(confusion_matrix(Y_test,pred1))"
   ]
  },
  {
   "cell_type": "code",
   "execution_count": 70,
   "id": "d917ae1c-04f7-496c-94ad-755357dd8fa6",
   "metadata": {},
   "outputs": [
    {
     "name": "stdout",
     "output_type": "stream",
     "text": [
      "              precision    recall  f1-score   support\n",
      "\n",
      "         0.0       0.91      1.00      0.96       851\n",
      "         1.0       0.00      0.00      0.00        79\n",
      "\n",
      "    accuracy                           0.91       930\n",
      "   macro avg       0.46      0.50      0.48       930\n",
      "weighted avg       0.84      0.91      0.87       930\n",
      "\n"
     ]
    }
   ],
   "source": [
    "#Classification report\n",
    "from sklearn.metrics import classification_report\n",
    "print(classification_report(Y_test,pred1))"
   ]
  }
 ],
 "metadata": {
  "kernelspec": {
   "display_name": "Python [conda env:base] *",
   "language": "python",
   "name": "conda-base-py"
  },
  "language_info": {
   "codemirror_mode": {
    "name": "ipython",
    "version": 3
   },
   "file_extension": ".py",
   "mimetype": "text/x-python",
   "name": "python",
   "nbconvert_exporter": "python",
   "pygments_lexer": "ipython3",
   "version": "3.12.7"
  }
 },
 "nbformat": 4,
 "nbformat_minor": 5
}
